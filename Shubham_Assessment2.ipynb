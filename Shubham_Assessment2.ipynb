{
 "cells": [
  {
   "cell_type": "markdown",
   "id": "00ede765",
   "metadata": {},
   "source": [
    "# Practice"
   ]
  },
  {
   "cell_type": "code",
   "execution_count": 1,
   "id": "c2085542",
   "metadata": {},
   "outputs": [
    {
     "name": "stdout",
     "output_type": "stream",
     "text": [
      "[1, 2, 3]\n"
     ]
    },
    {
     "data": {
      "text/plain": [
       "list"
      ]
     },
     "execution_count": 1,
     "metadata": {},
     "output_type": "execute_result"
    }
   ],
   "source": [
    "st = [1,2,2,2,2,2,2,2,2,3,3]\n",
    "ts=set(st)\n",
    "st=list(ts)\n",
    "print (st)\n",
    "type (st)"
   ]
  },
  {
   "cell_type": "code",
   "execution_count": 2,
   "id": "d5ecedab",
   "metadata": {},
   "outputs": [
    {
     "name": "stdout",
     "output_type": "stream",
     "text": [
      "1\n",
      "2\n",
      "3\n"
     ]
    }
   ],
   "source": [
    "for x in st:\n",
    "    print(x)"
   ]
  },
  {
   "cell_type": "code",
   "execution_count": 3,
   "id": "ff72fe8c",
   "metadata": {},
   "outputs": [],
   "source": [
    "a=[1,2,3]\n",
    "b=[4,[5.1,5.2,['5.2.1','5.2.2']],6]"
   ]
  },
  {
   "cell_type": "code",
   "execution_count": 4,
   "id": "fc34e3cd",
   "metadata": {},
   "outputs": [
    {
     "name": "stdout",
     "output_type": "stream",
     "text": [
      "Enter Marks Obtained:29\n",
      "FAIL\n",
      "Enter Y to continue and N to exit\n",
      "N\n",
      "Thank you\n"
     ]
    }
   ],
   "source": [
    "def prompt():\n",
    "    answer = input(\"Enter Y to continue and N to exit\\n\")\n",
    "    if answer==\"Y\":\n",
    "        Marks()\n",
    "    elif answer==\"N\":\n",
    "        print (\"Thank you\")\n",
    "    else:\n",
    "        print(\"Enter either Y or N\")\n",
    "        prompt()\n",
    "        \n",
    "def Marks():\n",
    "    MarksObtained= input(\"Enter Marks Obtained:\")\n",
    "    MarksObtained = float(MarksObtained)\n",
    "    if MarksObtained>=50 and MarksObtained<75:\n",
    "        print (\"Third Division\")\n",
    "        prompt()\n",
    "    elif MarksObtained>=75 and MarksObtained<90:\n",
    "        print (\"Second Division\")\n",
    "        prompt()\n",
    "    elif MarksObtained>=90 and MarksObtained<=100:\n",
    "        print (\"First Division\")\n",
    "        prompt()\n",
    "    elif MarksObtained<50:\n",
    "        print (\"FAIL\")\n",
    "        prompt()\n",
    "    else:\n",
    "        print(\"Enter marks in range 0-100\")\n",
    "        Marks()\n",
    "\n",
    "        \n",
    "        \n",
    "Marks()\n"
   ]
  },
  {
   "cell_type": "code",
   "execution_count": 5,
   "id": "cddf31e4",
   "metadata": {},
   "outputs": [
    {
     "name": "stdout",
     "output_type": "stream",
     "text": [
      "   *\n",
      "  ***\n",
      " *****\n"
     ]
    }
   ],
   "source": [
    "j=1\n",
    "for i in range(1,4):\n",
    "    print((4-i)*\" \"+j*\"*\")\n",
    "    j+=2\n",
    "   "
   ]
  },
  {
   "cell_type": "code",
   "execution_count": 6,
   "id": "10c0ab35",
   "metadata": {},
   "outputs": [
    {
     "data": {
      "text/plain": [
       "4.0"
      ]
     },
     "execution_count": 6,
     "metadata": {},
     "output_type": "execute_result"
    }
   ],
   "source": [
    "8.99999999999999//2"
   ]
  },
  {
   "cell_type": "code",
   "execution_count": 7,
   "id": "b43817f2",
   "metadata": {},
   "outputs": [
    {
     "name": "stdout",
     "output_type": "stream",
     "text": [
      "ooohellooo\n"
     ]
    }
   ],
   "source": [
    "k=\"hell\"\n",
    "print(k.center(10,'o'))"
   ]
  },
  {
   "cell_type": "code",
   "execution_count": 8,
   "id": "c2d3e079",
   "metadata": {},
   "outputs": [
    {
     "name": "stdout",
     "output_type": "stream",
     "text": [
      "12\n",
      "12\n"
     ]
    }
   ],
   "source": [
    "x=int(input())\n",
    "print(x)"
   ]
  },
  {
   "cell_type": "code",
   "execution_count": 9,
   "id": "6a3de622",
   "metadata": {},
   "outputs": [
    {
     "name": "stdout",
     "output_type": "stream",
     "text": [
      "hello\n",
      "['A', 'B', 'C']\n",
      "hello\n",
      "['A', 'B', 'C', 'D', 'E', 'F', 'G', 'H']\n",
      "hello\n",
      "['A', 'B', 'C', 'D', 'E', 'F', 'G', 'H']\n"
     ]
    }
   ],
   "source": [
    "list1= ['A','B','C','A','D','E','F','G','H','E','D']\n",
    "list2=[]\n",
    "for elem in list1:\n",
    "    if elem not in list2:\n",
    "        list2.append(elem)\n",
    "    else:\n",
    "        print('hello')\n",
    "        print(list2)"
   ]
  },
  {
   "cell_type": "code",
   "execution_count": 10,
   "id": "577d75f5",
   "metadata": {},
   "outputs": [
    {
     "data": {
      "text/plain": [
       "['A', 'B', 'C', 'D', 'E', 'F', 'G', 'H']"
      ]
     },
     "execution_count": 10,
     "metadata": {},
     "output_type": "execute_result"
    }
   ],
   "source": [
    "list2= []\n",
    "[list2.append(x) for x in list1 if x not in list2]\n",
    "list2"
   ]
  },
  {
   "cell_type": "code",
   "execution_count": 11,
   "id": "df5f0199",
   "metadata": {},
   "outputs": [
    {
     "data": {
      "text/plain": [
       "14"
      ]
     },
     "execution_count": 11,
     "metadata": {},
     "output_type": "execute_result"
    }
   ],
   "source": [
    "\n",
    "def occurrence(lst, n):\n",
    "    count=0\n",
    "    for i in lst:\n",
    "        if i==n:\n",
    "            count+=1\n",
    "    return count\n",
    "\n",
    "occurrence([1,2,2,2,2,2,2,2,2,2,2,2,2,2,2],2)"
   ]
  },
  {
   "cell_type": "markdown",
   "id": "db3ad3b8",
   "metadata": {},
   "source": []
  },
  {
   "cell_type": "code",
   "execution_count": 12,
   "id": "dbf1d5c3",
   "metadata": {},
   "outputs": [
    {
     "name": "stdout",
     "output_type": "stream",
     "text": [
      "15511210043330985984000000\n"
     ]
    }
   ],
   "source": [
    "def factorial(n):\n",
    "    sum=1\n",
    "    while n>=2:\n",
    "        sum=sum*(n)\n",
    "        n=n-1\n",
    "    print (sum)\n",
    "\n",
    "factorial(25)"
   ]
  },
  {
   "cell_type": "code",
   "execution_count": 13,
   "id": "7106690a",
   "metadata": {},
   "outputs": [
    {
     "name": "stdout",
     "output_type": "stream",
     "text": [
      "7893729873982 13\n"
     ]
    }
   ],
   "source": [
    "num='2893789273987'\n",
    "revnum= ''\n",
    "#for i in num:\n",
    "#   print(num[int(i)])\n",
    "for i in range(0, len(num)):\n",
    "    revnum=str(num[i])+revnum\n",
    "    i+=1\n",
    "    \n",
    "\n",
    "revnum=int(revnum)\n",
    "print(revnum, i)"
   ]
  },
  {
   "cell_type": "code",
   "execution_count": 14,
   "id": "940ddb50",
   "metadata": {},
   "outputs": [
    {
     "data": {
      "text/plain": [
       "'7289794828934'"
      ]
     },
     "execution_count": 14,
     "metadata": {},
     "output_type": "execute_result"
    }
   ],
   "source": [
    "num=4398284979827\n",
    "str(num)[::-1]"
   ]
  },
  {
   "cell_type": "markdown",
   "id": "73feac69",
   "metadata": {},
   "source": [
    "# Pankaj Assignment\n"
   ]
  },
  {
   "cell_type": "code",
   "execution_count": 46,
   "id": "808a9c08",
   "metadata": {},
   "outputs": [
    {
     "name": "stdout",
     "output_type": "stream",
     "text": [
      "1\n",
      "2\n",
      "3\n",
      "4\n",
      "5\n",
      "6\n",
      "7\n",
      "8\n",
      "9\n",
      "10\n",
      "11\n"
     ]
    }
   ],
   "source": [
    "\n",
    "list1=[1,2,3,4,5,6,7,8,9,10,11]\n",
    "for elem in list1:\n",
    "    print(elem)"
   ]
  },
  {
   "cell_type": "code",
   "execution_count": 31,
   "id": "f03b60d0",
   "metadata": {},
   "outputs": [
    {
     "name": "stdout",
     "output_type": "stream",
     "text": [
      "6\n",
      "7\n",
      "8\n",
      "9\n",
      "10\n",
      "11\n"
     ]
    }
   ],
   "source": [
    "for elem in list1:\n",
    "    if elem>5:\n",
    "        print(elem)"
   ]
  },
  {
   "cell_type": "code",
   "execution_count": 32,
   "id": "e5ea8489",
   "metadata": {},
   "outputs": [
    {
     "name": "stdout",
     "output_type": "stream",
     "text": [
      "1\n",
      "3\n",
      "5\n",
      "7\n",
      "9\n",
      "11\n"
     ]
    }
   ],
   "source": [
    "for i in range(0,len(list1),2):\n",
    "    print(list1[i])\n",
    " "
   ]
  },
  {
   "cell_type": "code",
   "execution_count": 33,
   "id": "80f327c9",
   "metadata": {},
   "outputs": [
    {
     "data": {
      "text/plain": [
       "[1, 2, 3, 4, 5, 6, 7, 8, 80, 90, 100]"
      ]
     },
     "execution_count": 33,
     "metadata": {},
     "output_type": "execute_result"
    }
   ],
   "source": [
    "x=80\n",
    "for i in range (len(list1)-3, len(list1)):\n",
    "    list1[i]=x\n",
    "    x=x+10\n",
    "    \n",
    "list1"
   ]
  },
  {
   "cell_type": "code",
   "execution_count": 28,
   "id": "b2036f18",
   "metadata": {},
   "outputs": [
    {
     "name": "stdout",
     "output_type": "stream",
     "text": [
      "[1, 2, 3, 4, 5, 6, 7, 8, 80, 90, 100, 11, 20]\n",
      "[1, 2, 3, 4, 5, 6, 7, 8, 80, 90, 100, 11, 20, 11, 20]\n"
     ]
    }
   ],
   "source": [
    "list2=[11,20]\n",
    "list1.extend(list2)\n",
    "print(list1)\n",
    "join1=list1+list2\n",
    "print(join1)"
   ]
  },
  {
   "cell_type": "code",
   "execution_count": 47,
   "id": "0adabee5",
   "metadata": {},
   "outputs": [
    {
     "name": "stdout",
     "output_type": "stream",
     "text": [
      "[1, 2, 3, 4, 5, 6, 7, 8, 9, 10, 11]\n",
      "[1, 2, 3, 4, 5, 6, 7, 8, 9, 10]\n",
      "[1, 2, 3, 4, 5, 6, 7, 8, 9]\n",
      "[1, 2, 3, 4, 5, 6, 7, 8]\n",
      "[1, 2, 3, 4, 5, 6, 7]\n",
      "[1, 2, 3, 4, 5, 6]\n",
      "[1, 2, 3, 4, 5]\n",
      "[1, 2, 3, 4]\n",
      "[1, 2, 3]\n",
      "[1, 2]\n",
      "[1]\n"
     ]
    },
    {
     "data": {
      "text/plain": [
       "[]"
      ]
     },
     "execution_count": 47,
     "metadata": {},
     "output_type": "execute_result"
    }
   ],
   "source": [
    "for elem in reversed(list1):\n",
    "    print(list1)\n",
    "    list1.remove(elem)\n",
    "list1"
   ]
  },
  {
   "cell_type": "code",
   "execution_count": 44,
   "id": "9e007884",
   "metadata": {},
   "outputs": [
    {
     "name": "stdout",
     "output_type": "stream",
     "text": [
      "[1, 2, 3, 4, 5, 6, 7, 8, 9, 10]\n",
      "[1, 2, 3, 4, 5, 6, 7, 8, 9]\n",
      "[1, 2, 3, 4, 5, 6, 7, 8]\n",
      "[1, 2, 3, 4, 5, 6, 7]\n",
      "[1, 2, 3, 4, 5, 6]\n",
      "[1, 2, 3, 4, 5]\n",
      "[1, 2, 3, 4]\n",
      "[1, 2, 3]\n",
      "[1, 2]\n",
      "[1]\n",
      "[]\n"
     ]
    },
    {
     "data": {
      "text/plain": [
       "[]"
      ]
     },
     "execution_count": 44,
     "metadata": {},
     "output_type": "execute_result"
    }
   ],
   "source": [
    "x=(len(list1))\n",
    "for i in range(x):\n",
    "    list1.pop(-1)\n",
    "    print(list1)\n",
    "list1"
   ]
  },
  {
   "cell_type": "code",
   "execution_count": 9,
   "id": "07be8514",
   "metadata": {},
   "outputs": [
    {
     "name": "stdout",
     "output_type": "stream",
     "text": [
      "1\n",
      "2\n",
      "3\n",
      "4\n",
      "5\n",
      "6\n",
      "7\n",
      "8\n",
      "9\n",
      "10\n",
      "11\n",
      "6\n",
      "7\n",
      "8\n",
      "9\n",
      "10\n",
      "11\n"
     ]
    }
   ],
   "source": [
    "\n",
    "tup1=(1,2,3,4,5,6,7,8,9,10,11)\n",
    "for elem in tup1:\n",
    "    print(elem)\n",
    "for elem in tup1:\n",
    "    if elem>5:\n",
    "        print(elem)"
   ]
  },
  {
   "cell_type": "code",
   "execution_count": 10,
   "id": "96364e86",
   "metadata": {},
   "outputs": [
    {
     "name": "stdout",
     "output_type": "stream",
     "text": [
      "1\n",
      "3\n",
      "5\n",
      "7\n",
      "9\n",
      "11\n"
     ]
    }
   ],
   "source": [
    "for i in range(0,len(tup1),2):\n",
    "    print(tup1[i])\n",
    "\n"
   ]
  },
  {
   "cell_type": "code",
   "execution_count": 11,
   "id": "9d37ec22",
   "metadata": {},
   "outputs": [
    {
     "name": "stdout",
     "output_type": "stream",
     "text": [
      "(1, 2, 3, 4, 5, 6, 7, 8, 9, 10, 11, 11, 20)\n"
     ]
    }
   ],
   "source": [
    "tup2=(11,20)\n",
    "join2=tup1+tup2\n",
    "print(join2)"
   ]
  },
  {
   "cell_type": "code",
   "execution_count": 73,
   "id": "0b56378c",
   "metadata": {},
   "outputs": [],
   "source": [
    "tup1\n",
    "del(tup1)"
   ]
  },
  {
   "cell_type": "code",
   "execution_count": 113,
   "id": "0667d3e7",
   "metadata": {},
   "outputs": [
    {
     "data": {
      "text/plain": [
       "{'Name': ['Shubh', 'Preeti', 'Yanny', 'Priya', 'Harpreet'],\n",
       " 'Manager': ['Harry', 'Harry', 'Harry', 'Harry', 'Harry'],\n",
       " 'Team': ['Python', 'Python', 'Python', 'Python', 'Python']}"
      ]
     },
     "execution_count": 113,
     "metadata": {},
     "output_type": "execute_result"
    }
   ],
   "source": [
    "dict1={'Name':['Shubh','Preeti','Yanny','Priya','Harpreet'],\n",
    "      'Manager':['Harry','Harry','Harry','Harry','Harry'],\n",
    "       'Team':['Python','Python','Python','Python','Python']\n",
    "      }\n",
    "dict1    "
   ]
  },
  {
   "cell_type": "code",
   "execution_count": 114,
   "id": "41b92cea",
   "metadata": {},
   "outputs": [
    {
     "name": "stdout",
     "output_type": "stream",
     "text": [
      "Name\n",
      "Manager\n",
      "Team\n"
     ]
    }
   ],
   "source": [
    "for key in dict1:\n",
    "    print(key)\n",
    "    "
   ]
  },
  {
   "cell_type": "code",
   "execution_count": 115,
   "id": "0364718c",
   "metadata": {},
   "outputs": [
    {
     "name": "stdout",
     "output_type": "stream",
     "text": [
      "Shubh\n",
      "Preeti\n",
      "Yanny\n",
      "Priya\n",
      "Harpreet\n",
      "Harry\n",
      "Harry\n",
      "Harry\n",
      "Harry\n",
      "Harry\n",
      "Python\n",
      "Python\n",
      "Python\n",
      "Python\n",
      "Python\n"
     ]
    }
   ],
   "source": [
    "for value in dict1.values():\n",
    "    for i in range(len(value)):\n",
    "        print(value[i])"
   ]
  },
  {
   "cell_type": "code",
   "execution_count": 116,
   "id": "22c96e32",
   "metadata": {},
   "outputs": [
    {
     "data": {
      "text/plain": [
       "{'Name': ['Shubh', 'Preeti', 'Yanny', 'Priya', 'Harpreet'],\n",
       " 'Manager': ['Harry', 'Harry', 'Harry', 'Harry', 'Harry'],\n",
       " 'Team': ['Python', 'Python', 'Python', 'Python', 'Python']}"
      ]
     },
     "execution_count": 116,
     "metadata": {},
     "output_type": "execute_result"
    }
   ],
   "source": [
    "dict1"
   ]
  },
  {
   "cell_type": "code",
   "execution_count": 117,
   "id": "2d1b7075",
   "metadata": {},
   "outputs": [],
   "source": [
    "dict1.update({'Salary':[12100021,12213,88778,987896,689090]})"
   ]
  },
  {
   "cell_type": "code",
   "execution_count": 118,
   "id": "12d80150",
   "metadata": {
    "scrolled": true
   },
   "outputs": [
    {
     "data": {
      "text/plain": [
       "{'Name': ['Shubh', 'Preeti', 'Yanny', 'Priya', 'Harpreet'],\n",
       " 'Manager': ['Harry', 'Harry', 'Harry', 'Harry', 'Harry'],\n",
       " 'Team': ['Python', 'Python', 'Python', 'Python', 'Python'],\n",
       " 'Salary': [12100021, 12213, 88778, 987896, 689090]}"
      ]
     },
     "execution_count": 118,
     "metadata": {},
     "output_type": "execute_result"
    }
   ],
   "source": [
    "dict1"
   ]
  },
  {
   "cell_type": "code",
   "execution_count": 119,
   "id": "4fcc9ebb",
   "metadata": {},
   "outputs": [],
   "source": [
    "dict1['Name'][2]= 'Pankaj'"
   ]
  },
  {
   "cell_type": "code",
   "execution_count": 120,
   "id": "566e3d53",
   "metadata": {},
   "outputs": [
    {
     "data": {
      "text/plain": [
       "{'Name': ['Shubh', 'Preeti', 'Pankaj', 'Priya', 'Harpreet'],\n",
       " 'Manager': ['Harry', 'Harry', 'Harry', 'Harry', 'Harry'],\n",
       " 'Team': ['Python', 'Python', 'Python', 'Python', 'Python'],\n",
       " 'Salary': [12100021, 12213, 88778, 987896, 689090]}"
      ]
     },
     "execution_count": 120,
     "metadata": {},
     "output_type": "execute_result"
    }
   ],
   "source": [
    "dict1"
   ]
  },
  {
   "cell_type": "code",
   "execution_count": 129,
   "id": "3b41f2d3",
   "metadata": {},
   "outputs": [
    {
     "name": "stdout",
     "output_type": "stream",
     "text": [
      "2176\n",
      "gsyug\n",
      "Enter number only\n"
     ]
    }
   ],
   "source": [
    "def sumul(x,y):\n",
    "    if x>10 or y>10:\n",
    "        return x+y\n",
    "    else:\n",
    "        return x*y\n",
    "\n",
    "\n",
    "try:\n",
    "    x=int(input())\n",
    "    y=int(input())\n",
    "except:\n",
    "    print('Enter number only')\n",
    "else:\n",
    "    print(sumul(x,y))"
   ]
  },
  {
   "cell_type": "code",
   "execution_count": 121,
   "id": "c74e6adf",
   "metadata": {},
   "outputs": [
    {
     "data": {
      "text/html": [
       "<div>\n",
       "<style scoped>\n",
       "    .dataframe tbody tr th:only-of-type {\n",
       "        vertical-align: middle;\n",
       "    }\n",
       "\n",
       "    .dataframe tbody tr th {\n",
       "        vertical-align: top;\n",
       "    }\n",
       "\n",
       "    .dataframe thead th {\n",
       "        text-align: right;\n",
       "    }\n",
       "</style>\n",
       "<table border=\"1\" class=\"dataframe\">\n",
       "  <thead>\n",
       "    <tr style=\"text-align: right;\">\n",
       "      <th></th>\n",
       "      <th>Name</th>\n",
       "      <th>Manager</th>\n",
       "      <th>Team</th>\n",
       "      <th>Salary</th>\n",
       "    </tr>\n",
       "  </thead>\n",
       "  <tbody>\n",
       "    <tr>\n",
       "      <th>0</th>\n",
       "      <td>Shubh</td>\n",
       "      <td>Harry</td>\n",
       "      <td>Python</td>\n",
       "      <td>12100021</td>\n",
       "    </tr>\n",
       "    <tr>\n",
       "      <th>1</th>\n",
       "      <td>Preeti</td>\n",
       "      <td>Harry</td>\n",
       "      <td>Python</td>\n",
       "      <td>12213</td>\n",
       "    </tr>\n",
       "    <tr>\n",
       "      <th>2</th>\n",
       "      <td>Pankaj</td>\n",
       "      <td>Harry</td>\n",
       "      <td>Python</td>\n",
       "      <td>88778</td>\n",
       "    </tr>\n",
       "    <tr>\n",
       "      <th>3</th>\n",
       "      <td>Priya</td>\n",
       "      <td>Harry</td>\n",
       "      <td>Python</td>\n",
       "      <td>987896</td>\n",
       "    </tr>\n",
       "    <tr>\n",
       "      <th>4</th>\n",
       "      <td>Harpreet</td>\n",
       "      <td>Harry</td>\n",
       "      <td>Python</td>\n",
       "      <td>689090</td>\n",
       "    </tr>\n",
       "  </tbody>\n",
       "</table>\n",
       "</div>"
      ],
      "text/plain": [
       "       Name Manager    Team    Salary\n",
       "0     Shubh   Harry  Python  12100021\n",
       "1    Preeti   Harry  Python     12213\n",
       "2    Pankaj   Harry  Python     88778\n",
       "3     Priya   Harry  Python    987896\n",
       "4  Harpreet   Harry  Python    689090"
      ]
     },
     "execution_count": 121,
     "metadata": {},
     "output_type": "execute_result"
    }
   ],
   "source": [
    "import pandas as pd\n",
    "df=pd.DataFrame.from_dict(dict1)\n",
    "df"
   ]
  },
  {
   "cell_type": "code",
   "execution_count": 89,
   "id": "13e6784b",
   "metadata": {},
   "outputs": [
    {
     "data": {
      "text/html": [
       "<div>\n",
       "<style scoped>\n",
       "    .dataframe tbody tr th:only-of-type {\n",
       "        vertical-align: middle;\n",
       "    }\n",
       "\n",
       "    .dataframe tbody tr th {\n",
       "        vertical-align: top;\n",
       "    }\n",
       "\n",
       "    .dataframe thead th {\n",
       "        text-align: right;\n",
       "    }\n",
       "</style>\n",
       "<table border=\"1\" class=\"dataframe\">\n",
       "  <thead>\n",
       "    <tr style=\"text-align: right;\">\n",
       "      <th></th>\n",
       "      <th>Name</th>\n",
       "      <th>Manager</th>\n",
       "      <th>Team</th>\n",
       "      <th>Salary</th>\n",
       "    </tr>\n",
       "  </thead>\n",
       "  <tbody>\n",
       "    <tr>\n",
       "      <th>0</th>\n",
       "      <td>Shubh</td>\n",
       "      <td>Harry</td>\n",
       "      <td>Python</td>\n",
       "      <td>12100021</td>\n",
       "    </tr>\n",
       "    <tr>\n",
       "      <th>1</th>\n",
       "      <td>Preeti</td>\n",
       "      <td>Harry</td>\n",
       "      <td>Python</td>\n",
       "      <td>12213</td>\n",
       "    </tr>\n",
       "  </tbody>\n",
       "</table>\n",
       "</div>"
      ],
      "text/plain": [
       "     Name Manager    Team    Salary\n",
       "0   Shubh   Harry  Python  12100021\n",
       "1  Preeti   Harry  Python     12213"
      ]
     },
     "execution_count": 89,
     "metadata": {},
     "output_type": "execute_result"
    }
   ],
   "source": [
    "df.head(2)"
   ]
  },
  {
   "cell_type": "code",
   "execution_count": 102,
   "id": "aefebeb6",
   "metadata": {},
   "outputs": [
    {
     "data": {
      "text/html": [
       "<div>\n",
       "<style scoped>\n",
       "    .dataframe tbody tr th:only-of-type {\n",
       "        vertical-align: middle;\n",
       "    }\n",
       "\n",
       "    .dataframe tbody tr th {\n",
       "        vertical-align: top;\n",
       "    }\n",
       "\n",
       "    .dataframe thead th {\n",
       "        text-align: right;\n",
       "    }\n",
       "</style>\n",
       "<table border=\"1\" class=\"dataframe\">\n",
       "  <thead>\n",
       "    <tr style=\"text-align: right;\">\n",
       "      <th></th>\n",
       "      <th>Name</th>\n",
       "      <th>Manager</th>\n",
       "      <th>Team</th>\n",
       "      <th>Salary</th>\n",
       "    </tr>\n",
       "  </thead>\n",
       "  <tbody>\n",
       "    <tr>\n",
       "      <th>2</th>\n",
       "      <td>Yanny</td>\n",
       "      <td>Harry</td>\n",
       "      <td>Python</td>\n",
       "      <td>88778</td>\n",
       "    </tr>\n",
       "    <tr>\n",
       "      <th>3</th>\n",
       "      <td>Priya</td>\n",
       "      <td>Harry</td>\n",
       "      <td>Python</td>\n",
       "      <td>987896</td>\n",
       "    </tr>\n",
       "    <tr>\n",
       "      <th>4</th>\n",
       "      <td>Harpreet</td>\n",
       "      <td>Harry</td>\n",
       "      <td>Python</td>\n",
       "      <td>689090</td>\n",
       "    </tr>\n",
       "  </tbody>\n",
       "</table>\n",
       "</div>"
      ],
      "text/plain": [
       "       Name Manager    Team  Salary\n",
       "2     Yanny   Harry  Python   88778\n",
       "3     Priya   Harry  Python  987896\n",
       "4  Harpreet   Harry  Python  689090"
      ]
     },
     "execution_count": 102,
     "metadata": {},
     "output_type": "execute_result"
    }
   ],
   "source": [
    "df.tail(3)"
   ]
  },
  {
   "cell_type": "code",
   "execution_count": 91,
   "id": "87e8ee4c",
   "metadata": {},
   "outputs": [
    {
     "data": {
      "text/plain": [
       "(5, 4)"
      ]
     },
     "execution_count": 91,
     "metadata": {},
     "output_type": "execute_result"
    }
   ],
   "source": [
    "df.shape"
   ]
  },
  {
   "cell_type": "code",
   "execution_count": 104,
   "id": "bac9801a",
   "metadata": {},
   "outputs": [
    {
     "data": {
      "text/plain": [
       "'Harry'"
      ]
     },
     "execution_count": 104,
     "metadata": {},
     "output_type": "execute_result"
    }
   ],
   "source": [
    "df.loc[3][1]"
   ]
  },
  {
   "cell_type": "code",
   "execution_count": 110,
   "id": "057c7ea9",
   "metadata": {},
   "outputs": [
    {
     "data": {
      "text/html": [
       "<div>\n",
       "<style scoped>\n",
       "    .dataframe tbody tr th:only-of-type {\n",
       "        vertical-align: middle;\n",
       "    }\n",
       "\n",
       "    .dataframe tbody tr th {\n",
       "        vertical-align: top;\n",
       "    }\n",
       "\n",
       "    .dataframe thead th {\n",
       "        text-align: right;\n",
       "    }\n",
       "</style>\n",
       "<table border=\"1\" class=\"dataframe\">\n",
       "  <thead>\n",
       "    <tr style=\"text-align: right;\">\n",
       "      <th></th>\n",
       "      <th>Name</th>\n",
       "      <th>Salary</th>\n",
       "    </tr>\n",
       "  </thead>\n",
       "  <tbody>\n",
       "    <tr>\n",
       "      <th>0</th>\n",
       "      <td>Shubh</td>\n",
       "      <td>12100021</td>\n",
       "    </tr>\n",
       "    <tr>\n",
       "      <th>3</th>\n",
       "      <td>Priya</td>\n",
       "      <td>987896</td>\n",
       "    </tr>\n",
       "    <tr>\n",
       "      <th>4</th>\n",
       "      <td>Harpreet</td>\n",
       "      <td>689090</td>\n",
       "    </tr>\n",
       "  </tbody>\n",
       "</table>\n",
       "</div>"
      ],
      "text/plain": [
       "       Name    Salary\n",
       "0     Shubh  12100021\n",
       "3     Priya    987896\n",
       "4  Harpreet    689090"
      ]
     },
     "execution_count": 110,
     "metadata": {},
     "output_type": "execute_result"
    }
   ],
   "source": [
    "df.loc[(df.Salary>88778),['Name','Salary']]"
   ]
  },
  {
   "cell_type": "code",
   "execution_count": 111,
   "id": "59561070",
   "metadata": {},
   "outputs": [
    {
     "data": {
      "text/html": [
       "<div>\n",
       "<style scoped>\n",
       "    .dataframe tbody tr th:only-of-type {\n",
       "        vertical-align: middle;\n",
       "    }\n",
       "\n",
       "    .dataframe tbody tr th {\n",
       "        vertical-align: top;\n",
       "    }\n",
       "\n",
       "    .dataframe thead th {\n",
       "        text-align: right;\n",
       "    }\n",
       "</style>\n",
       "<table border=\"1\" class=\"dataframe\">\n",
       "  <thead>\n",
       "    <tr style=\"text-align: right;\">\n",
       "      <th></th>\n",
       "      <th>Team</th>\n",
       "    </tr>\n",
       "  </thead>\n",
       "  <tbody>\n",
       "    <tr>\n",
       "      <th>1</th>\n",
       "      <td>Python</td>\n",
       "    </tr>\n",
       "    <tr>\n",
       "      <th>2</th>\n",
       "      <td>Python</td>\n",
       "    </tr>\n",
       "  </tbody>\n",
       "</table>\n",
       "</div>"
      ],
      "text/plain": [
       "     Team\n",
       "1  Python\n",
       "2  Python"
      ]
     },
     "execution_count": 111,
     "metadata": {},
     "output_type": "execute_result"
    }
   ],
   "source": [
    "df.iloc[1:3,2:3]"
   ]
  },
  {
   "cell_type": "code",
   "execution_count": 112,
   "id": "d80ff33a",
   "metadata": {},
   "outputs": [
    {
     "data": {
      "text/plain": [
       "987896"
      ]
     },
     "execution_count": 112,
     "metadata": {},
     "output_type": "execute_result"
    }
   ],
   "source": [
    "df.iloc[]"
   ]
  },
  {
   "cell_type": "code",
   "execution_count": 152,
   "id": "2194556e",
   "metadata": {},
   "outputs": [
    {
     "name": "stdout",
     "output_type": "stream",
     "text": [
      "        Name Manager    Team    Salary   Team \n",
      "0      Shubh   Harry  Python  12100021     NaN\n",
      "1     Preeti   Harry  Python     12213     NaN\n",
      "2     Pankaj   Harry  Python     88778     NaN\n",
      "3      Priya   Harry  Python    987896     NaN\n",
      "4   Harpreet   Harry  Python    689090     NaN\n",
      "0       Riya  Yogesh     NaN    755668     SRL\n",
      "1     Trisha  Yogesh     NaN    782961     MIT\n",
      "2       Amol  Yogesh     NaN    966005     TEF\n",
      "3        Pal  Yogesh     NaN    670977     KOH\n",
      "4        Lal  Mrinal     NaN    718487     SRL\n",
      "5       Bala  Mrinal     NaN    724837     MIT\n",
      "6      Moksh  Mrinal     NaN    858434     TEF\n",
      "7     Tripti  Mrinal     NaN    838884     KOH\n",
      "8      Kriti  Pankaj     NaN    702189  Python\n",
      "9      Vidhi  Pankaj     NaN    862213  Python\n",
      "10     Nidhi  Pankaj     NaN    957157  Python\n"
     ]
    },
    {
     "data": {
      "text/html": [
       "<div>\n",
       "<style scoped>\n",
       "    .dataframe tbody tr th:only-of-type {\n",
       "        vertical-align: middle;\n",
       "    }\n",
       "\n",
       "    .dataframe tbody tr th {\n",
       "        vertical-align: top;\n",
       "    }\n",
       "\n",
       "    .dataframe thead th {\n",
       "        text-align: right;\n",
       "    }\n",
       "</style>\n",
       "<table border=\"1\" class=\"dataframe\">\n",
       "  <thead>\n",
       "    <tr style=\"text-align: right;\">\n",
       "      <th></th>\n",
       "      <th></th>\n",
       "      <th></th>\n",
       "      <th></th>\n",
       "      <th></th>\n",
       "      <th>Team</th>\n",
       "    </tr>\n",
       "    <tr>\n",
       "      <th>Name</th>\n",
       "      <th>Manager</th>\n",
       "      <th>Team</th>\n",
       "      <th>Salary</th>\n",
       "      <th>Team</th>\n",
       "      <th></th>\n",
       "    </tr>\n",
       "  </thead>\n",
       "  <tbody>\n",
       "    <tr>\n",
       "      <th>Shubh</th>\n",
       "      <th>Harry</th>\n",
       "      <th>Python</th>\n",
       "      <th>12100021</th>\n",
       "      <th>Python</th>\n",
       "      <td>NaN</td>\n",
       "    </tr>\n",
       "    <tr>\n",
       "      <th>Preeti</th>\n",
       "      <th>Harry</th>\n",
       "      <th>Python</th>\n",
       "      <th>12213</th>\n",
       "      <th>Python</th>\n",
       "      <td>NaN</td>\n",
       "    </tr>\n",
       "    <tr>\n",
       "      <th>Pankaj</th>\n",
       "      <th>Harry</th>\n",
       "      <th>Python</th>\n",
       "      <th>88778</th>\n",
       "      <th>Python</th>\n",
       "      <td>NaN</td>\n",
       "    </tr>\n",
       "    <tr>\n",
       "      <th>Priya</th>\n",
       "      <th>Harry</th>\n",
       "      <th>Python</th>\n",
       "      <th>987896</th>\n",
       "      <th>Python</th>\n",
       "      <td>NaN</td>\n",
       "    </tr>\n",
       "    <tr>\n",
       "      <th>Harpreet</th>\n",
       "      <th>Harry</th>\n",
       "      <th>Python</th>\n",
       "      <th>689090</th>\n",
       "      <th>Python</th>\n",
       "      <td>NaN</td>\n",
       "    </tr>\n",
       "    <tr>\n",
       "      <th>Riya</th>\n",
       "      <th>Yogesh</th>\n",
       "      <th>NaN</th>\n",
       "      <th>755668</th>\n",
       "      <th>NaN</th>\n",
       "      <td>SRL</td>\n",
       "    </tr>\n",
       "    <tr>\n",
       "      <th>Trisha</th>\n",
       "      <th>Yogesh</th>\n",
       "      <th>NaN</th>\n",
       "      <th>782961</th>\n",
       "      <th>NaN</th>\n",
       "      <td>MIT</td>\n",
       "    </tr>\n",
       "    <tr>\n",
       "      <th>Amol</th>\n",
       "      <th>Yogesh</th>\n",
       "      <th>NaN</th>\n",
       "      <th>966005</th>\n",
       "      <th>NaN</th>\n",
       "      <td>TEF</td>\n",
       "    </tr>\n",
       "    <tr>\n",
       "      <th>Pal</th>\n",
       "      <th>Yogesh</th>\n",
       "      <th>NaN</th>\n",
       "      <th>670977</th>\n",
       "      <th>NaN</th>\n",
       "      <td>KOH</td>\n",
       "    </tr>\n",
       "    <tr>\n",
       "      <th>Lal</th>\n",
       "      <th>Mrinal</th>\n",
       "      <th>NaN</th>\n",
       "      <th>718487</th>\n",
       "      <th>NaN</th>\n",
       "      <td>SRL</td>\n",
       "    </tr>\n",
       "    <tr>\n",
       "      <th>Bala</th>\n",
       "      <th>Mrinal</th>\n",
       "      <th>NaN</th>\n",
       "      <th>724837</th>\n",
       "      <th>NaN</th>\n",
       "      <td>MIT</td>\n",
       "    </tr>\n",
       "    <tr>\n",
       "      <th>Moksh</th>\n",
       "      <th>Mrinal</th>\n",
       "      <th>NaN</th>\n",
       "      <th>858434</th>\n",
       "      <th>NaN</th>\n",
       "      <td>TEF</td>\n",
       "    </tr>\n",
       "    <tr>\n",
       "      <th>Tripti</th>\n",
       "      <th>Mrinal</th>\n",
       "      <th>NaN</th>\n",
       "      <th>838884</th>\n",
       "      <th>NaN</th>\n",
       "      <td>KOH</td>\n",
       "    </tr>\n",
       "    <tr>\n",
       "      <th>Kriti</th>\n",
       "      <th>Pankaj</th>\n",
       "      <th>NaN</th>\n",
       "      <th>702189</th>\n",
       "      <th>NaN</th>\n",
       "      <td>Python</td>\n",
       "    </tr>\n",
       "    <tr>\n",
       "      <th>Vidhi</th>\n",
       "      <th>Pankaj</th>\n",
       "      <th>NaN</th>\n",
       "      <th>862213</th>\n",
       "      <th>NaN</th>\n",
       "      <td>Python</td>\n",
       "    </tr>\n",
       "    <tr>\n",
       "      <th>Nidhi</th>\n",
       "      <th>Pankaj</th>\n",
       "      <th>NaN</th>\n",
       "      <th>957157</th>\n",
       "      <th>NaN</th>\n",
       "      <td>Python</td>\n",
       "    </tr>\n",
       "  </tbody>\n",
       "</table>\n",
       "</div>"
      ],
      "text/plain": [
       "                                          Team \n",
       "Name     Manager Team   Salary   Team          \n",
       "Shubh    Harry   Python 12100021 Python     NaN\n",
       "Preeti   Harry   Python 12213    Python     NaN\n",
       "Pankaj   Harry   Python 88778    Python     NaN\n",
       "Priya    Harry   Python 987896   Python     NaN\n",
       "Harpreet Harry   Python 689090   Python     NaN\n",
       "Riya     Yogesh  NaN    755668   NaN        SRL\n",
       "Trisha   Yogesh  NaN    782961   NaN        MIT\n",
       "Amol     Yogesh  NaN    966005   NaN        TEF\n",
       "Pal      Yogesh  NaN    670977   NaN        KOH\n",
       "Lal      Mrinal  NaN    718487   NaN        SRL\n",
       "Bala     Mrinal  NaN    724837   NaN        MIT\n",
       "Moksh    Mrinal  NaN    858434   NaN        TEF\n",
       "Tripti   Mrinal  NaN    838884   NaN        KOH\n",
       "Kriti    Pankaj  NaN    702189   NaN     Python\n",
       "Vidhi    Pankaj  NaN    862213   NaN     Python\n",
       "Nidhi    Pankaj  NaN    957157   NaN     Python"
      ]
     },
     "execution_count": 152,
     "metadata": {},
     "output_type": "execute_result"
    }
   ],
   "source": [
    "import pandas as pd\n",
    "exceldata=pd.read_excel('C:/Users/DELL/Desktop/ExcelSample.xlsx')\n",
    "object1=[df,exceldata]\n",
    "concatdf =pd.concat(object1)\n",
    "print(concatdf)\n",
    "\n",
    "#why team is coming two times?\n",
    "\n",
    "concatdf.rename(columns={'Team':'TEAM','Team':'TeAm'})\n",
    "\n",
    "#second Team is not reachable\n",
    "\n",
    "concatdf.set_index(keys=['Name','Manager','Team', 'Salary','Team'])\n",
    "\n",
    "#last Team not reachable"
   ]
  },
  {
   "cell_type": "code",
   "execution_count": 23,
   "id": "3ec588d8",
   "metadata": {},
   "outputs": [
    {
     "name": "stdout",
     "output_type": "stream",
     "text": [
      "Enter constant a in 'ax^2 + bx + c': 5\n",
      "Enter constant b in 'ax^2 + bx + c': 8\n",
      "Enter constant c in 'ax^2 + bx + c': 2\n"
     ]
    },
    {
     "data": {
      "image/png": "[encoded data removed]",
      "text/plain": [
       "<Figure size 640x480 with 1 Axes>"
      ]
     },
     "metadata": {},
     "output_type": "display_data"
    },
    {
     "name": "stdout",
     "output_type": "stream",
     "text": [
      "(-7.752551286084111, 32.24744871391589)\n"
     ]
    }
   ],
   "source": [
    "import matplotlib.pyplot as plt\n",
    "import math\n",
    "def quad(a,b,c):\n",
    "    x1= (-b+ (math.sqrt(b*b-4*a*c)))/2*a\n",
    "    x2= (b+ (math.sqrt(b*b-4*a*c)))/2*a\n",
    "    plt.plot(x1,'o')\n",
    "    plt.plot(x2,'o')\n",
    "    [plt.plot(x,'*') for x in range (0,(b*b-4*a*c))]\n",
    "    plt.show()\n",
    "    return(x1,x2)\n",
    "    \n",
    "    \n",
    "def loopinput():\n",
    "    try:\n",
    "        a=int(input(\"Enter constant a in 'ax^2 + bx + c': \"))\n",
    "        b=int(input(\"Enter constant b in 'ax^2 + bx + c': \"))\n",
    "        c=int(input(\"Enter constant c in 'ax^2 + bx + c': \"))\n",
    "    except:\n",
    "        print('Enter number only')\n",
    "        loopinput()\n",
    "    else:\n",
    "        try:\n",
    "            if (b*b-4*a*c)<0:\n",
    "                print ('The equation has imaginary roots')\n",
    "                (-b+ (math.sqrt(b*b-4*a*c)))\n",
    "        except:\n",
    "            print('Enter a,b,c with real roots next time')\n",
    "            loopinput()\n",
    "        else:\n",
    "            print(quad(a,b,c))\n",
    "\n",
    "loopinput()"
   ]
  },
  {
   "cell_type": "code",
   "execution_count": 9,
   "id": "2b9b5d8c",
   "metadata": {},
   "outputs": [
    {
     "name": "stdout",
     "output_type": "stream",
     "text": [
      "Enter the textkjahfkhkafhkh837986236868687^*%&^%^&@&%&^%&^@%&^%@&  @Y*@ *@^^@( )@)()(*!)()(!*)( ! )(!G@IG @(@(Y@Y)(\n",
      "kjahfkhkafhkh837986236868687  Y    GIG YY\n"
     ]
    }
   ],
   "source": [
    "def removespecialchars(text=input('Enter the text')):\n",
    "    text1=''\n",
    "    for char in text:\n",
    "        if char.isalpha() is True or char.isnumeric() is True or char==' ':\n",
    "            text1+=char\n",
    "        else:\n",
    "            continue\n",
    "    print(text1)\n",
    "        \n",
    "removespecialchars()"
   ]
  },
  {
   "cell_type": "code",
   "execution_count": 25,
   "id": "8dac19f2",
   "metadata": {},
   "outputs": [
    {
     "name": "stdout",
     "output_type": "stream",
     "text": [
      "0\n",
      "0\n",
      "0\n",
      "0\n",
      "0\n",
      "0\n",
      "0\n",
      "1\n",
      "2\n",
      "3\n",
      "4\n",
      "5\n",
      "0\n",
      "2\n",
      "4\n",
      "6\n",
      "8\n",
      "10\n",
      "0\n",
      "3\n",
      "6\n",
      "9\n",
      "12\n",
      "15\n",
      "0\n",
      "4\n",
      "8\n",
      "12\n",
      "16\n",
      "20\n",
      "0\n",
      "5\n",
      "10\n",
      "15\n",
      "20\n",
      "25\n",
      "[[0, 0, 0, 0, 0, 0], [0, 1, 2, 3, 4, 5], [0, 2, 4, 6, 8, 10], [0, 3, 6, 9, 12, 15], [0, 4, 8, 12, 16, 20], [0, 5, 10, 15, 20, 25]]\n"
     ]
    }
   ],
   "source": [
    "def num2array(x,y):\n",
    "    array=[[0 for i in range(x)] for j in range(y)]\n",
    "    for i in range(x):\n",
    "        for j in range(y):\n",
    "            array[i][j]= i*j\n",
    "            print(array[i][j])\n",
    "    print(array)\n",
    "num2array(6,6)"
   ]
  },
  {
   "cell_type": "code",
   "execution_count": 4,
   "id": "d4ab8a03",
   "metadata": {
    "scrolled": true
   },
   "outputs": [
    {
     "name": "stdout",
     "output_type": "stream",
     "text": [
      "Enter the string: [(a[i]+a[i+1]) for i in range(0, len(a)-1)]\n",
      "Enter cost of removal of 'he': e\n",
      "Enter cost as number only\n",
      "Enter the string: ee\n",
      "Enter cost of removal of 'he': e\n",
      "Enter cost as number only\n",
      "Enter the string: hellohellohellohellohello\n",
      "Enter cost of removal of 'he': 6\n",
      "Enter cost of removal of 'lo': 4\n",
      "['he', 'el', 'll', 'lo', 'oh', 'he', 'el', 'll', 'lo', 'oh', 'he', 'el', 'll', 'lo', 'oh', 'he', 'el', 'll', 'lo', 'oh', 'he', 'el', 'll', 'lo']\n",
      "he 6\n",
      "lo 10\n",
      "he 16\n",
      "lo 20\n",
      "he 26\n",
      "lo 30\n",
      "he 36\n",
      "lo 40\n",
      "he 46\n",
      "lo 50\n",
      "50\n"
     ]
    }
   ],
   "source": [
    "\"\"\"For given string S and integers P and Q, which denotes the cost of removal of substrings “he” and “lo” respectively from S, the task is to\n",
    "find the maximum cost of removing all occurrences of substrings “he” and “lo”.\n",
    "example if S = “hellohellohellohellohello”, P = 6, Q = 4, then cost to remove 'he' and 'lo' is 50 \"\"\"\n",
    "\n",
    "def loopinput():\n",
    "    try:\n",
    "        a=str(input(\"Enter the string: \"))\n",
    "        b=int(input(\"Enter cost of removal of 'he': \"))\n",
    "        c=int(input(\"Enter cost of removal of 'lo': \"))\n",
    "    except:\n",
    "        print('Enter cost as number only')\n",
    "        loopinput()\n",
    "    else:\n",
    "        remcost(a,b,c)\n",
    "        \n",
    "def remcost(a,b,c):\n",
    "    cost=0\n",
    "#    print ([(a[i]+a[i+1]) for i in range(0, len(a)-1)])\n",
    "    for elem in [(a[i]+a[i+1]) for i in range(0, len(a)-1)]:\n",
    "        if elem in ['he','He','Eh','HE']:\n",
    "            cost+= b\n",
    "            print(elem,cost)\n",
    "        elif elem in ['lo','Lo','lO','LO']:\n",
    "            cost+= c\n",
    "            print(elem,cost)\n",
    "        else:\n",
    "            continue\n",
    "    print (cost)\n",
    "\n",
    "loopinput()\n",
    "        "
   ]
  },
  {
   "cell_type": "code",
   "execution_count": 49,
   "id": "36ad8053",
   "metadata": {},
   "outputs": [
    {
     "name": "stdout",
     "output_type": "stream",
     "text": [
      "Enter binary number:0000000000000111111110100110000110\n",
      "00000000000010100010\n"
     ]
    }
   ],
   "source": [
    "def loopintput():\n",
    "    try:\n",
    "        bininput=input('Enter binary number:')\n",
    "        for digit in str(bininput):\n",
    "            if digit=='0' or digit=='1':\n",
    "                continue\n",
    "            else:\n",
    "                raise RuntimeError from None\n",
    "    except:\n",
    "        print('Enter binary number only in format of 0 and 1')\n",
    "        loopintput()\n",
    "    else:\n",
    "        binrem(bininput)\n",
    "        \n",
    "def binrem(a):\n",
    "    a=a.replace('01','')\n",
    "    a=a.replace('11','')\n",
    "    print(a)\n",
    "\n",
    "\n",
    "loopintput()\n",
    "\n"
   ]
  },
  {
   "cell_type": "code",
   "execution_count": 65,
   "id": "3aa008b0",
   "metadata": {},
   "outputs": [
    {
     "name": "stdout",
     "output_type": "stream",
     "text": [
      "Enter range: 70000000\n",
      "Enter number to check for divisibility: 1\n",
      "0  2450000035000000\n",
      "-2450000035000000\n"
     ]
    }
   ],
   "source": [
    "'''Write a function such that it accepts two integers n, m as arguments Find the sum of all numbers \n",
    "in range from 1 to m(both inclusive) that are not divisible by n. Return difference between sum of\n",
    "integers not divisible by n with sum of numbers divisible by n'''\n",
    "def loopinput():\n",
    "    try:\n",
    "        b=int(input(\"Enter range: \"))\n",
    "        a=int(input(\"Enter number to check for divisibility: \"))\n",
    "    except:\n",
    "        print('Enter number only')\n",
    "        loopinput()\n",
    "    else:\n",
    "        soidoi(a,b)\n",
    "        \n",
    "        \n",
    "def soidoi(n,m):\n",
    "    s=0\n",
    "    d=0\n",
    "    for i in range(1,m+1):\n",
    "        if i%n==0:\n",
    "            s+=i\n",
    "        else:\n",
    "            d+=i\n",
    "    print(d,'',s)\n",
    "    print(d-s)\n",
    "\n",
    "loopinput()"
   ]
  },
  {
   "cell_type": "code",
   "execution_count": 3,
   "id": "749bf300",
   "metadata": {},
   "outputs": [
    {
     "name": "stdout",
     "output_type": "stream",
     "text": [
      "Enter String:codel coee cope cone cofe coffe coste cose co e coee coooo\n",
      "['coee ', 'cope ', 'cone ', 'cofe ', 'cose ', 'co e ', 'coee '] 7\n"
     ]
    }
   ],
   "source": [
    "'''Write a function count_code that return the number of times that the string \"code\" appears anywhere in the given string, except we'll\n",
    "accept any letter for the 'd', so \"cope\" and \"cooe\" count.'''\n",
    "import re\n",
    "def countco_e():\n",
    "    text1=input('Enter String:')\n",
    "    x = re.findall(\"co.e \", text1)\n",
    "    print(x,len(x))\n",
    "countco_e()"
   ]
  },
  {
   "cell_type": "code",
   "execution_count": 28,
   "id": "2526ae84",
   "metadata": {},
   "outputs": [
    {
     "name": "stdout",
     "output_type": "stream",
     "text": [
      " + 19\n",
      " + 19 + 1919\n",
      " + 19 + 1919 + 191919\n",
      " + 19 + 1919 + 191919 + 19191919\n",
      " + 19 + 1919 + 191919 + 19191919 + 1919191919\n",
      " + 19 + 1919 + 191919 + 19191919 + 1919191919 + 191919191919\n",
      " + 19 + 1919 + 191919 + 19191919 + 1919191919 + 191919191919 + 19191919191919\n",
      " + 19 + 1919 + 191919 + 19191919 + 1919191919 + 191919191919 + 19191919191919 + 1919191919191919\n",
      " + 19 + 1919 + 191919 + 19191919 + 1919191919 + 191919191919 + 19191919191919 + 1919191919191919 + 191919191919191919\n",
      "193857769615345371\n"
     ]
    }
   ],
   "source": [
    "'''Find the sum of the series 4 +44 + 444 + 4444 + .. n terms'''\n",
    "\n",
    "def series(number,terms):\n",
    "    sum=0\n",
    "    sumtext=''\n",
    "    for i in range(1,terms+1):\n",
    "        x=str(number)*i\n",
    "        sumtext=sumtext + ' + '+ x\n",
    "        print(sumtext)\n",
    "        sum+=int(str(number)*i)\n",
    "    print(sum)\n",
    "        \n",
    "series(19,9)"
   ]
  },
  {
   "cell_type": "code",
   "execution_count": 54,
   "id": "17d77b91",
   "metadata": {},
   "outputs": [
    {
     "name": "stdout",
     "output_type": "stream",
     "text": [
      "Enter the sentencehello aeiou AEIOU\n",
      "Number of vowels: 12\n",
      "Enter: hello aeiou AEIOU\n",
      "Number of vowels:  12\n"
     ]
    }
   ],
   "source": [
    "'''Assume s is a string of lower case characters.\n",
    "Write a program that counts up the number of vowels contained in the string s. Valid vowels are: 'a', 'e', 'i', 'o', and 'u'. For example, if s =\n",
    "'azcbobobegghakl', your program should print:\n",
    "```Number of vowels: 5```'''\n",
    "\n",
    "def countvowels():\n",
    "    list1=['a','e','i','o','u']\n",
    "    count=0\n",
    "    text=input('Enter the sentence')\n",
    "    for char in text:\n",
    "        if char.lower() in list1:\n",
    "            count+=1\n",
    "        else:\n",
    "            continue\n",
    "    print('Number of vowels:',count)\n",
    "countvowels()\n",
    "text=input('Enter: ')\n",
    "list1=['a','e','i','o','u']\n",
    "count=0\n",
    "x=[char for char in text  if char.lower() in list1]\n",
    "print('Number of vowels:',len(x))"
   ]
  },
  {
   "cell_type": "code",
   "execution_count": 71,
   "id": "e51af949",
   "metadata": {},
   "outputs": [
    {
     "name": "stdout",
     "output_type": "stream",
     "text": [
      "Enter String: azcbobobegghakl\n",
      "1\n",
      "2\n"
     ]
    }
   ],
   "source": [
    "'''Write a program that prints the number of times the string 'bob' occurs in s. For example, \n",
    "if s = 'azcbobobegghakl', then your program should print'''\n",
    "\n",
    "s=input('Enter String: ')\n",
    "print(len(re.findall('bob',s)))\n",
    "count=0\n",
    "for i in range(len(s)-2):\n",
    "    if s[i]+s[i+1]+s[i+2] == 'bob':\n",
    "        count+=1\n",
    "    else:\n",
    "        continue\n",
    "        \n",
    "print(count)"
   ]
  },
  {
   "cell_type": "markdown",
   "id": "683ffe57",
   "metadata": {},
   "source": [
    "# Pankaj Assignment Latest"
   ]
  },
  {
   "cell_type": "code",
   "execution_count": 154,
   "id": "425b1c06",
   "metadata": {},
   "outputs": [
    {
     "name": "stdout",
     "output_type": "stream",
     "text": [
      "Enter string: thankyou\n",
      "t\n",
      "h\n",
      "a\n",
      "n\n",
      "k\n",
      "y\n",
      "o\n",
      "u\n"
     ]
    }
   ],
   "source": [
    "for char in (input('Enter string: ')):\n",
    "    print(char)"
   ]
  },
  {
   "cell_type": "code",
   "execution_count": 155,
   "id": "3d3a9345",
   "metadata": {},
   "outputs": [
    {
     "name": "stdout",
     "output_type": "stream",
     "text": [
      "Enter range:  10\n",
      "[0, 1, 2, 3, 4, 5, 6, 7, 8, 9]\n"
     ]
    }
   ],
   "source": [
    "newlist=[]\n",
    "for num in range(int(input('Enter range:  '))):\n",
    "    newlist.append(num*num)\n",
    "print(newlist)"
   ]
  },
  {
   "cell_type": "code",
   "execution_count": 162,
   "id": "5bcedde9",
   "metadata": {},
   "outputs": [
    {
     "name": "stdout",
     "output_type": "stream",
     "text": [
      "Enter range:  10\n"
     ]
    },
    {
     "data": {
      "text/plain": [
       "[36, 49, 64, 81]"
      ]
     },
     "execution_count": 162,
     "metadata": {},
     "output_type": "execute_result"
    }
   ],
   "source": [
    "newlistshort=[num*num for num in range(int(input('Enter range:  '))) if num>5]\n",
    "newlistshort"
   ]
  },
  {
   "cell_type": "code",
   "execution_count": 170,
   "id": "d4e46c5b",
   "metadata": {},
   "outputs": [
    {
     "name": "stdout",
     "output_type": "stream",
     "text": [
      "[65, 52, 31, 46, 83, 41, 11, 61, 57, 50]\n",
      "[52, 46, 50]\n"
     ]
    }
   ],
   "source": [
    "import numpy as np\n",
    "list1= [np.random.randint(10,100) for x in range(10)]\n",
    "list2= [ x for x in list1 if x%2==0]\n",
    "\n",
    "print(list1)\n",
    "print(list2)"
   ]
  },
  {
   "cell_type": "code",
   "execution_count": null,
   "id": "50182647",
   "metadata": {},
   "outputs": [],
   "source": []
  }
 ],
 "metadata": {
  "kernelspec": {
   "display_name": "Python 3 (ipykernel)",
   "language": "python",
   "name": "python3"
  },
  "language_info": {
   "codemirror_mode": {
    "name": "ipython",
    "version": 3
   },
   "file_extension": ".py",
   "mimetype": "text/x-python",
   "name": "python",
   "nbconvert_exporter": "python",
   "pygments_lexer": "ipython3",
   "version": "3.9.13"
  }
 },
 "nbformat": 4,
 "nbformat_minor": 5
}
