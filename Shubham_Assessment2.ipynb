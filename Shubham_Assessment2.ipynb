{
 "cells": [
  {
   "cell_type": "code",
   "execution_count": 1,
   "id": "c2085542",
   "metadata": {},
   "outputs": [
    {
     "name": "stdout",
     "output_type": "stream",
     "text": [
      "[1, 2, 3]\n"
     ]
    },
    {
     "data": {
      "text/plain": [
       "list"
      ]
     },
     "execution_count": 1,
     "metadata": {},
     "output_type": "execute_result"
    }
   ],
   "source": [
    "st = [1,2,2,2,2,2,2,2,2,3,3]\n",
    "ts=set(st)\n",
    "st=list(ts)\n",
    "print (st)\n",
    "type (st)"
   ]
  },
  {
   "cell_type": "code",
   "execution_count": 2,
   "id": "d5ecedab",
   "metadata": {},
   "outputs": [
    {
     "name": "stdout",
     "output_type": "stream",
     "text": [
      "1\n",
      "2\n",
      "3\n"
     ]
    }
   ],
   "source": [
    "for x in st:\n",
    "    print(x)"
   ]
  },
  {
   "cell_type": "code",
   "execution_count": 3,
   "id": "ff72fe8c",
   "metadata": {},
   "outputs": [],
   "source": [
    "a=[1,2,3]\n",
    "b=[4,[5.1,5.2,['5.2.1','5.2.2']],6]"
   ]
  },
  {
   "cell_type": "code",
   "execution_count": 4,
   "id": "fc34e3cd",
   "metadata": {},
   "outputs": [
    {
     "name": "stdout",
     "output_type": "stream",
     "text": [
      "Enter Marks Obtained:29\n",
      "FAIL\n",
      "Enter Y to continue and N to exit\n",
      "N\n",
      "Thank you\n"
     ]
    }
   ],
   "source": [
    "def prompt():\n",
    "    answer = input(\"Enter Y to continue and N to exit\\n\")\n",
    "    if answer==\"Y\":\n",
    "        Marks()\n",
    "    elif answer==\"N\":\n",
    "        print (\"Thank you\")\n",
    "    else:\n",
    "        print(\"Enter either Y or N\")\n",
    "        prompt()\n",
    "        \n",
    "def Marks():\n",
    "    MarksObtained= input(\"Enter Marks Obtained:\")\n",
    "    MarksObtained = float(MarksObtained)\n",
    "    if MarksObtained>=50 and MarksObtained<75:\n",
    "        print (\"Third Division\")\n",
    "        prompt()\n",
    "    elif MarksObtained>=75 and MarksObtained<90:\n",
    "        print (\"Second Division\")\n",
    "        prompt()\n",
    "    elif MarksObtained>=90 and MarksObtained<=100:\n",
    "        print (\"First Division\")\n",
    "        prompt()\n",
    "    elif MarksObtained<50:\n",
    "        print (\"FAIL\")\n",
    "        prompt()\n",
    "    else:\n",
    "        print(\"Enter marks in range 0-100\")\n",
    "        Marks()\n",
    "\n",
    "        \n",
    "        \n",
    "Marks()\n"
   ]
  },
  {
   "cell_type": "code",
   "execution_count": 5,
   "id": "cddf31e4",
   "metadata": {},
   "outputs": [
    {
     "name": "stdout",
     "output_type": "stream",
     "text": [
      "   *\n",
      "  ***\n",
      " *****\n"
     ]
    }
   ],
   "source": [
    "j=1\n",
    "for i in range(1,4):\n",
    "    print((4-i)*\" \"+j*\"*\")\n",
    "    j+=2\n",
    "   "
   ]
  },
  {
   "cell_type": "code",
   "execution_count": 6,
   "id": "10c0ab35",
   "metadata": {},
   "outputs": [
    {
     "data": {
      "text/plain": [
       "4.0"
      ]
     },
     "execution_count": 6,
     "metadata": {},
     "output_type": "execute_result"
    }
   ],
   "source": [
    "8.99999999999999//2"
   ]
  },
  {
   "cell_type": "code",
   "execution_count": 7,
   "id": "b43817f2",
   "metadata": {},
   "outputs": [
    {
     "name": "stdout",
     "output_type": "stream",
     "text": [
      "ooohellooo\n"
     ]
    }
   ],
   "source": [
    "k=\"hell\"\n",
    "print(k.center(10,'o'))"
   ]
  },
  {
   "cell_type": "code",
   "execution_count": 8,
   "id": "c2d3e079",
   "metadata": {},
   "outputs": [
    {
     "name": "stdout",
     "output_type": "stream",
     "text": [
      "12\n",
      "12\n"
     ]
    }
   ],
   "source": [
    "x=int(input())\n",
    "print(x)"
   ]
  },
  {
   "cell_type": "code",
   "execution_count": 9,
   "id": "6a3de622",
   "metadata": {},
   "outputs": [
    {
     "name": "stdout",
     "output_type": "stream",
     "text": [
      "hello\n",
      "['A', 'B', 'C']\n",
      "hello\n",
      "['A', 'B', 'C', 'D', 'E', 'F', 'G', 'H']\n",
      "hello\n",
      "['A', 'B', 'C', 'D', 'E', 'F', 'G', 'H']\n"
     ]
    }
   ],
   "source": [
    "list1= ['A','B','C','A','D','E','F','G','H','E','D']\n",
    "list2=[]\n",
    "for elem in list1:\n",
    "    if elem not in list2:\n",
    "        list2.append(elem)\n",
    "    else:\n",
    "        print('hello')\n",
    "        print(list2)"
   ]
  },
  {
   "cell_type": "code",
   "execution_count": 10,
   "id": "577d75f5",
   "metadata": {},
   "outputs": [
    {
     "data": {
      "text/plain": [
       "['A', 'B', 'C', 'D', 'E', 'F', 'G', 'H']"
      ]
     },
     "execution_count": 10,
     "metadata": {},
     "output_type": "execute_result"
    }
   ],
   "source": [
    "list2= []\n",
    "[list2.append(x) for x in list1 if x not in list2]\n",
    "list2"
   ]
  },
  {
   "cell_type": "code",
   "execution_count": 11,
   "id": "df5f0199",
   "metadata": {},
   "outputs": [
    {
     "data": {
      "text/plain": [
       "14"
      ]
     },
     "execution_count": 11,
     "metadata": {},
     "output_type": "execute_result"
    }
   ],
   "source": [
    "\n",
    "def occurrence(lst, n):\n",
    "    count=0\n",
    "    for i in lst:\n",
    "        if i==n:\n",
    "            count+=1\n",
    "    return count\n",
    "\n",
    "occurrence([1,2,2,2,2,2,2,2,2,2,2,2,2,2,2],2)"
   ]
  },
  {
   "cell_type": "markdown",
   "id": "db3ad3b8",
   "metadata": {},
   "source": []
  },
  {
   "cell_type": "code",
   "execution_count": 12,
   "id": "dbf1d5c3",
   "metadata": {},
   "outputs": [
    {
     "name": "stdout",
     "output_type": "stream",
     "text": [
      "15511210043330985984000000\n"
     ]
    }
   ],
   "source": [
    "def factorial(n):\n",
    "    sum=1\n",
    "    while n>=2:\n",
    "        sum=sum*(n)\n",
    "        n=n-1\n",
    "    print (sum)\n",
    "\n",
    "factorial(25)"
   ]
  },
  {
   "cell_type": "code",
   "execution_count": 13,
   "id": "7106690a",
   "metadata": {},
   "outputs": [
    {
     "name": "stdout",
     "output_type": "stream",
     "text": [
      "7893729873982 13\n"
     ]
    }
   ],
   "source": [
    "num='2893789273987'\n",
    "revnum= ''\n",
    "#for i in num:\n",
    "#   print(num[int(i)])\n",
    "for i in range(0, len(num)):\n",
    "    revnum=str(num[i])+revnum\n",
    "    i+=1\n",
    "    \n",
    "\n",
    "revnum=int(revnum)\n",
    "print(revnum, i)"
   ]
  },
  {
   "cell_type": "code",
   "execution_count": 14,
   "id": "940ddb50",
   "metadata": {},
   "outputs": [
    {
     "data": {
      "text/plain": [
       "'7289794828934'"
      ]
     },
     "execution_count": 14,
     "metadata": {},
     "output_type": "execute_result"
    }
   ],
   "source": [
    "num=4398284979827\n",
    "str(num)[::-1]"
   ]
  },
  {
   "cell_type": "markdown",
   "id": "73feac69",
   "metadata": {},
   "source": [
    "#### Pankaj - Assignment\n"
   ]
  },
  {
   "cell_type": "code",
   "execution_count": 131,
   "id": "808a9c08",
   "metadata": {},
   "outputs": [
    {
     "name": "stdout",
     "output_type": "stream",
     "text": [
      "1\n",
      "2\n",
      "3\n",
      "4\n",
      "5\n",
      "6\n",
      "7\n",
      "8\n",
      "9\n",
      "10\n",
      "11\n"
     ]
    }
   ],
   "source": [
    "\n",
    "list1=[1,2,3,4,5,6,7,8,9,10,11]\n",
    "for elem in list1:\n",
    "    print(elem)"
   ]
  },
  {
   "cell_type": "code",
   "execution_count": 16,
   "id": "f03b60d0",
   "metadata": {},
   "outputs": [
    {
     "name": "stdout",
     "output_type": "stream",
     "text": [
      "6\n",
      "7\n",
      "8\n",
      "9\n",
      "10\n",
      "11\n"
     ]
    }
   ],
   "source": [
    "for elem in list1:\n",
    "    if elem>5:\n",
    "        print(elem)"
   ]
  },
  {
   "cell_type": "code",
   "execution_count": 34,
   "id": "e5ea8489",
   "metadata": {},
   "outputs": [
    {
     "name": "stdout",
     "output_type": "stream",
     "text": [
      "1\n",
      "3\n",
      "5\n",
      "7\n",
      "9\n",
      "11\n"
     ]
    }
   ],
   "source": [
    "for i in range(0,len(list1),2):\n",
    "    print(list1[i])\n",
    " "
   ]
  },
  {
   "cell_type": "code",
   "execution_count": 35,
   "id": "80f327c9",
   "metadata": {},
   "outputs": [
    {
     "data": {
      "text/plain": [
       "[1, 2, 3, 4, 5, 6, 7, 8, 80, 90, 100]"
      ]
     },
     "execution_count": 35,
     "metadata": {},
     "output_type": "execute_result"
    }
   ],
   "source": [
    "x=80\n",
    "for i in range (len(list1)-3, len(list1)):\n",
    "    list1[i]=x\n",
    "    x=x+10\n",
    "    \n",
    "list1"
   ]
  },
  {
   "cell_type": "code",
   "execution_count": 48,
   "id": "b2036f18",
   "metadata": {},
   "outputs": [
    {
     "name": "stdout",
     "output_type": "stream",
     "text": [
      "[11, 20]\n",
      "[11, 20, 11, 20]\n"
     ]
    }
   ],
   "source": [
    "list2=[11,20]\n",
    "list1.extend(list2)\n",
    "print(list1)\n",
    "join1=list1+list2\n",
    "print(join1)"
   ]
  },
  {
   "cell_type": "code",
   "execution_count": 49,
   "id": "0adabee5",
   "metadata": {},
   "outputs": [
    {
     "data": {
      "text/plain": [
       "[20]"
      ]
     },
     "execution_count": 49,
     "metadata": {},
     "output_type": "execute_result"
    }
   ],
   "source": [
    "for elem in list1:\n",
    "    list1.remove(elem)\n",
    "list1"
   ]
  },
  {
   "cell_type": "code",
   "execution_count": 50,
   "id": "9e007884",
   "metadata": {},
   "outputs": [
    {
     "data": {
      "text/plain": [
       "[]"
      ]
     },
     "execution_count": 50,
     "metadata": {},
     "output_type": "execute_result"
    }
   ],
   "source": [
    "for i in range(len(list1)):\n",
    "    list1.pop(i)\n",
    "list1"
   ]
  },
  {
   "cell_type": "code",
   "execution_count": 71,
   "id": "07be8514",
   "metadata": {},
   "outputs": [
    {
     "name": "stdout",
     "output_type": "stream",
     "text": [
      "1\n",
      "2\n",
      "3\n",
      "4\n",
      "5\n",
      "6\n",
      "7\n",
      "8\n",
      "9\n",
      "10\n",
      "11\n",
      "6\n",
      "7\n",
      "8\n",
      "9\n",
      "10\n",
      "11\n"
     ]
    }
   ],
   "source": [
    "\n",
    "tup1=(1,2,3,4,5,6,7,8,9,10,11)\n",
    "for elem in tup1:\n",
    "    print(elem)\n",
    "for elem in tup1:\n",
    "    if elem>5:\n",
    "        print(elem)"
   ]
  },
  {
   "cell_type": "code",
   "execution_count": 67,
   "id": "96364e86",
   "metadata": {},
   "outputs": [
    {
     "name": "stdout",
     "output_type": "stream",
     "text": [
      "1\n",
      "3\n",
      "5\n",
      "7\n",
      "9\n",
      "11\n"
     ]
    }
   ],
   "source": [
    "for i in range(0,len(tup1),2):\n",
    "    print(tup1[i])\n",
    "\n"
   ]
  },
  {
   "cell_type": "code",
   "execution_count": 72,
   "id": "9d37ec22",
   "metadata": {},
   "outputs": [
    {
     "name": "stdout",
     "output_type": "stream",
     "text": [
      "(1, 2, 3, 4, 5, 6, 7, 8, 9, 10, 11, 11, 20)\n"
     ]
    }
   ],
   "source": [
    "tup2=(11,20)\n",
    "join2=tup1+tup2\n",
    "print(join2)"
   ]
  },
  {
   "cell_type": "code",
   "execution_count": 73,
   "id": "0b56378c",
   "metadata": {},
   "outputs": [],
   "source": [
    "tup1\n",
    "del(tup1)"
   ]
  },
  {
   "cell_type": "code",
   "execution_count": 76,
   "id": "0667d3e7",
   "metadata": {},
   "outputs": [
    {
     "data": {
      "text/plain": [
       "{'Name': ['Shubh', 'Preeti', 'Yanny', 'Priya', 'Harpreet'],\n",
       " 'Manager': ['Harry', 'Harry', 'Harry', 'Harry', 'Harry'],\n",
       " 'Team': ['Python', 'Python', 'Python', 'Python', 'Python']}"
      ]
     },
     "execution_count": 76,
     "metadata": {},
     "output_type": "execute_result"
    }
   ],
   "source": [
    "dict1={'Name':['Shubh','Preeti','Yanny','Priya','Harpreet'],\n",
    "      'Manager':['Harry','Harry','Harry','Harry','Harry'],\n",
    "       'Team':['Python','Python','Python','Python','Python']\n",
    "      }\n",
    "dict1    "
   ]
  },
  {
   "cell_type": "code",
   "execution_count": 82,
   "id": "41b92cea",
   "metadata": {},
   "outputs": [
    {
     "name": "stdout",
     "output_type": "stream",
     "text": [
      "Name\n",
      "Manager\n",
      "Team\n"
     ]
    }
   ],
   "source": [
    "for key in dict1:\n",
    "    print(key)\n",
    "    "
   ]
  },
  {
   "cell_type": "code",
   "execution_count": 88,
   "id": "0364718c",
   "metadata": {},
   "outputs": [
    {
     "name": "stdout",
     "output_type": "stream",
     "text": [
      "Shubh\n",
      "Preeti\n",
      "Yanny\n",
      "Priya\n",
      "Harpreet\n",
      "Harry\n",
      "Harry\n",
      "Harry\n",
      "Harry\n",
      "Harry\n",
      "Python\n",
      "Python\n",
      "Python\n",
      "Python\n",
      "Python\n"
     ]
    }
   ],
   "source": [
    "for value in dict1.values():\n",
    "    for i in range(len(value)):\n",
    "        print(value[i])"
   ]
  },
  {
   "cell_type": "code",
   "execution_count": 89,
   "id": "22c96e32",
   "metadata": {},
   "outputs": [
    {
     "data": {
      "text/plain": [
       "{'Name': ['Shubh', 'Preeti', 'Yanny', 'Priya', 'Harpreet'],\n",
       " 'Manager': ['Harry', 'Harry', 'Harry', 'Harry', 'Harry'],\n",
       " 'Team': ['Python', 'Python', 'Python', 'Python', 'Python']}"
      ]
     },
     "execution_count": 89,
     "metadata": {},
     "output_type": "execute_result"
    }
   ],
   "source": [
    "dict1"
   ]
  },
  {
   "cell_type": "code",
   "execution_count": 90,
   "id": "2d1b7075",
   "metadata": {},
   "outputs": [],
   "source": [
    "dict1.update({'Salary':[12100021,12213,88778,987896,689090]})"
   ]
  },
  {
   "cell_type": "code",
   "execution_count": 91,
   "id": "12d80150",
   "metadata": {
    "scrolled": true
   },
   "outputs": [
    {
     "data": {
      "text/plain": [
       "{'Name': ['Shubh', 'Preeti', 'Yanny', 'Priya', 'Harpreet'],\n",
       " 'Manager': ['Harry', 'Harry', 'Harry', 'Harry', 'Harry'],\n",
       " 'Team': ['Python', 'Python', 'Python', 'Python', 'Python'],\n",
       " 'Salary': [12100021, 12213, 88778, 987896, 689090]}"
      ]
     },
     "execution_count": 91,
     "metadata": {},
     "output_type": "execute_result"
    }
   ],
   "source": [
    "dict1"
   ]
  },
  {
   "cell_type": "code",
   "execution_count": 92,
   "id": "4fcc9ebb",
   "metadata": {},
   "outputs": [],
   "source": [
    "dict1['Name'][2]= 'Pankaj'"
   ]
  },
  {
   "cell_type": "code",
   "execution_count": 93,
   "id": "566e3d53",
   "metadata": {},
   "outputs": [
    {
     "data": {
      "text/plain": [
       "{'Name': ['Shubh', 'Preeti', 'Pankaj', 'Priya', 'Harpreet'],\n",
       " 'Manager': ['Harry', 'Harry', 'Harry', 'Harry', 'Harry'],\n",
       " 'Team': ['Python', 'Python', 'Python', 'Python', 'Python'],\n",
       " 'Salary': [12100021, 12213, 88778, 987896, 689090]}"
      ]
     },
     "execution_count": 93,
     "metadata": {},
     "output_type": "execute_result"
    }
   ],
   "source": [
    "dict1"
   ]
  },
  {
   "cell_type": "code",
   "execution_count": 129,
   "id": "3b41f2d3",
   "metadata": {},
   "outputs": [
    {
     "name": "stdout",
     "output_type": "stream",
     "text": [
      "2176\n",
      "gsyug\n",
      "Enter number only\n"
     ]
    }
   ],
   "source": [
    "def sumul(x,y):\n",
    "    if x>10 or y>10:\n",
    "        return x+y\n",
    "    else:\n",
    "        return x*y\n",
    "\n",
    "\n",
    "try:\n",
    "    x=int(input())\n",
    "    y=int(input())\n",
    "except:\n",
    "    print('Enter number only')\n",
    "else:\n",
    "    print(sumul(x,y))\n",
    "### def checknum(x,y):\n",
    "#   if type(x) and type(y) == int:\n",
    "#       print (sumul(x,y))\n",
    "#   else:\n",
    "#       print('Enter number only')\n",
    "        \n"
   ]
  },
  {
   "cell_type": "code",
   "execution_count": 128,
   "id": "c74e6adf",
   "metadata": {},
   "outputs": [
    {
     "data": {
      "text/html": [
       "<div>\n",
       "<style scoped>\n",
       "    .dataframe tbody tr th:only-of-type {\n",
       "        vertical-align: middle;\n",
       "    }\n",
       "\n",
       "    .dataframe tbody tr th {\n",
       "        vertical-align: top;\n",
       "    }\n",
       "\n",
       "    .dataframe thead th {\n",
       "        text-align: right;\n",
       "    }\n",
       "</style>\n",
       "<table border=\"1\" class=\"dataframe\">\n",
       "  <thead>\n",
       "    <tr style=\"text-align: right;\">\n",
       "      <th></th>\n",
       "      <th>Name</th>\n",
       "      <th>Manager</th>\n",
       "      <th>Team</th>\n",
       "      <th>Salary</th>\n",
       "    </tr>\n",
       "  </thead>\n",
       "  <tbody>\n",
       "    <tr>\n",
       "      <th>0</th>\n",
       "      <td>Shubh</td>\n",
       "      <td>Harry</td>\n",
       "      <td>Python</td>\n",
       "      <td>12100021</td>\n",
       "    </tr>\n",
       "    <tr>\n",
       "      <th>1</th>\n",
       "      <td>Preeti</td>\n",
       "      <td>Harry</td>\n",
       "      <td>Python</td>\n",
       "      <td>12213</td>\n",
       "    </tr>\n",
       "    <tr>\n",
       "      <th>2</th>\n",
       "      <td>Pankaj</td>\n",
       "      <td>Harry</td>\n",
       "      <td>Python</td>\n",
       "      <td>88778</td>\n",
       "    </tr>\n",
       "    <tr>\n",
       "      <th>3</th>\n",
       "      <td>Priya</td>\n",
       "      <td>Harry</td>\n",
       "      <td>Python</td>\n",
       "      <td>987896</td>\n",
       "    </tr>\n",
       "    <tr>\n",
       "      <th>4</th>\n",
       "      <td>Harpreet</td>\n",
       "      <td>Harry</td>\n",
       "      <td>Python</td>\n",
       "      <td>689090</td>\n",
       "    </tr>\n",
       "  </tbody>\n",
       "</table>\n",
       "</div>"
      ],
      "text/plain": [
       "       Name Manager    Team    Salary\n",
       "0     Shubh   Harry  Python  12100021\n",
       "1    Preeti   Harry  Python     12213\n",
       "2    Pankaj   Harry  Python     88778\n",
       "3     Priya   Harry  Python    987896\n",
       "4  Harpreet   Harry  Python    689090"
      ]
     },
     "execution_count": 128,
     "metadata": {},
     "output_type": "execute_result"
    }
   ],
   "source": [
    "import pandas as pd\n",
    "df=pd.DataFrame.from_dict(dict1)\n",
    "df"
   ]
  },
  {
   "cell_type": "code",
   "execution_count": 99,
   "id": "13e6784b",
   "metadata": {},
   "outputs": [
    {
     "data": {
      "text/html": [
       "<div>\n",
       "<style scoped>\n",
       "    .dataframe tbody tr th:only-of-type {\n",
       "        vertical-align: middle;\n",
       "    }\n",
       "\n",
       "    .dataframe tbody tr th {\n",
       "        vertical-align: top;\n",
       "    }\n",
       "\n",
       "    .dataframe thead th {\n",
       "        text-align: right;\n",
       "    }\n",
       "</style>\n",
       "<table border=\"1\" class=\"dataframe\">\n",
       "  <thead>\n",
       "    <tr style=\"text-align: right;\">\n",
       "      <th></th>\n",
       "      <th>Name</th>\n",
       "      <th>Manager</th>\n",
       "      <th>Team</th>\n",
       "      <th>Salary</th>\n",
       "    </tr>\n",
       "  </thead>\n",
       "  <tbody>\n",
       "    <tr>\n",
       "      <th>0</th>\n",
       "      <td>Shubh</td>\n",
       "      <td>Harry</td>\n",
       "      <td>Python</td>\n",
       "      <td>12100021</td>\n",
       "    </tr>\n",
       "    <tr>\n",
       "      <th>1</th>\n",
       "      <td>Preeti</td>\n",
       "      <td>Harry</td>\n",
       "      <td>Python</td>\n",
       "      <td>12213</td>\n",
       "    </tr>\n",
       "  </tbody>\n",
       "</table>\n",
       "</div>"
      ],
      "text/plain": [
       "     Name Manager    Team    Salary\n",
       "0   Shubh   Harry  Python  12100021\n",
       "1  Preeti   Harry  Python     12213"
      ]
     },
     "execution_count": 99,
     "metadata": {},
     "output_type": "execute_result"
    }
   ],
   "source": [
    "df.head(2)"
   ]
  },
  {
   "cell_type": "code",
   "execution_count": 100,
   "id": "aefebeb6",
   "metadata": {},
   "outputs": [
    {
     "data": {
      "text/html": [
       "<div>\n",
       "<style scoped>\n",
       "    .dataframe tbody tr th:only-of-type {\n",
       "        vertical-align: middle;\n",
       "    }\n",
       "\n",
       "    .dataframe tbody tr th {\n",
       "        vertical-align: top;\n",
       "    }\n",
       "\n",
       "    .dataframe thead th {\n",
       "        text-align: right;\n",
       "    }\n",
       "</style>\n",
       "<table border=\"1\" class=\"dataframe\">\n",
       "  <thead>\n",
       "    <tr style=\"text-align: right;\">\n",
       "      <th></th>\n",
       "      <th>Name</th>\n",
       "      <th>Manager</th>\n",
       "      <th>Team</th>\n",
       "      <th>Salary</th>\n",
       "    </tr>\n",
       "  </thead>\n",
       "  <tbody>\n",
       "    <tr>\n",
       "      <th>2</th>\n",
       "      <td>Pankaj</td>\n",
       "      <td>Harry</td>\n",
       "      <td>Python</td>\n",
       "      <td>88778</td>\n",
       "    </tr>\n",
       "    <tr>\n",
       "      <th>3</th>\n",
       "      <td>Priya</td>\n",
       "      <td>Harry</td>\n",
       "      <td>Python</td>\n",
       "      <td>987896</td>\n",
       "    </tr>\n",
       "    <tr>\n",
       "      <th>4</th>\n",
       "      <td>Harpreet</td>\n",
       "      <td>Harry</td>\n",
       "      <td>Python</td>\n",
       "      <td>689090</td>\n",
       "    </tr>\n",
       "  </tbody>\n",
       "</table>\n",
       "</div>"
      ],
      "text/plain": [
       "       Name Manager    Team  Salary\n",
       "2    Pankaj   Harry  Python   88778\n",
       "3     Priya   Harry  Python  987896\n",
       "4  Harpreet   Harry  Python  689090"
      ]
     },
     "execution_count": 100,
     "metadata": {},
     "output_type": "execute_result"
    }
   ],
   "source": [
    "df.tail(3)"
   ]
  },
  {
   "cell_type": "code",
   "execution_count": 103,
   "id": "87e8ee4c",
   "metadata": {},
   "outputs": [
    {
     "data": {
      "text/plain": [
       "(5, 4)"
      ]
     },
     "execution_count": 103,
     "metadata": {},
     "output_type": "execute_result"
    }
   ],
   "source": [
    "df.shape"
   ]
  },
  {
   "cell_type": "code",
   "execution_count": 104,
   "id": "bac9801a",
   "metadata": {},
   "outputs": [
    {
     "data": {
      "text/plain": [
       "'Harry'"
      ]
     },
     "execution_count": 104,
     "metadata": {},
     "output_type": "execute_result"
    }
   ],
   "source": [
    "df.loc[3][1]"
   ]
  },
  {
   "cell_type": "code",
   "execution_count": 110,
   "id": "057c7ea9",
   "metadata": {},
   "outputs": [
    {
     "data": {
      "text/html": [
       "<div>\n",
       "<style scoped>\n",
       "    .dataframe tbody tr th:only-of-type {\n",
       "        vertical-align: middle;\n",
       "    }\n",
       "\n",
       "    .dataframe tbody tr th {\n",
       "        vertical-align: top;\n",
       "    }\n",
       "\n",
       "    .dataframe thead th {\n",
       "        text-align: right;\n",
       "    }\n",
       "</style>\n",
       "<table border=\"1\" class=\"dataframe\">\n",
       "  <thead>\n",
       "    <tr style=\"text-align: right;\">\n",
       "      <th></th>\n",
       "      <th>Name</th>\n",
       "      <th>Salary</th>\n",
       "    </tr>\n",
       "  </thead>\n",
       "  <tbody>\n",
       "    <tr>\n",
       "      <th>0</th>\n",
       "      <td>Shubh</td>\n",
       "      <td>12100021</td>\n",
       "    </tr>\n",
       "    <tr>\n",
       "      <th>3</th>\n",
       "      <td>Priya</td>\n",
       "      <td>987896</td>\n",
       "    </tr>\n",
       "    <tr>\n",
       "      <th>4</th>\n",
       "      <td>Harpreet</td>\n",
       "      <td>689090</td>\n",
       "    </tr>\n",
       "  </tbody>\n",
       "</table>\n",
       "</div>"
      ],
      "text/plain": [
       "       Name    Salary\n",
       "0     Shubh  12100021\n",
       "3     Priya    987896\n",
       "4  Harpreet    689090"
      ]
     },
     "execution_count": 110,
     "metadata": {},
     "output_type": "execute_result"
    }
   ],
   "source": [
    "df.loc[(df.Salary>88778),['Name','Salary']]"
   ]
  },
  {
   "cell_type": "code",
   "execution_count": 111,
   "id": "59561070",
   "metadata": {},
   "outputs": [
    {
     "data": {
      "text/html": [
       "<div>\n",
       "<style scoped>\n",
       "    .dataframe tbody tr th:only-of-type {\n",
       "        vertical-align: middle;\n",
       "    }\n",
       "\n",
       "    .dataframe tbody tr th {\n",
       "        vertical-align: top;\n",
       "    }\n",
       "\n",
       "    .dataframe thead th {\n",
       "        text-align: right;\n",
       "    }\n",
       "</style>\n",
       "<table border=\"1\" class=\"dataframe\">\n",
       "  <thead>\n",
       "    <tr style=\"text-align: right;\">\n",
       "      <th></th>\n",
       "      <th>Team</th>\n",
       "    </tr>\n",
       "  </thead>\n",
       "  <tbody>\n",
       "    <tr>\n",
       "      <th>1</th>\n",
       "      <td>Python</td>\n",
       "    </tr>\n",
       "    <tr>\n",
       "      <th>2</th>\n",
       "      <td>Python</td>\n",
       "    </tr>\n",
       "  </tbody>\n",
       "</table>\n",
       "</div>"
      ],
      "text/plain": [
       "     Team\n",
       "1  Python\n",
       "2  Python"
      ]
     },
     "execution_count": 111,
     "metadata": {},
     "output_type": "execute_result"
    }
   ],
   "source": [
    "df.iloc[1:3,2:3]"
   ]
  },
  {
   "cell_type": "code",
   "execution_count": 112,
   "id": "d80ff33a",
   "metadata": {},
   "outputs": [
    {
     "data": {
      "text/plain": [
       "987896"
      ]
     },
     "execution_count": 112,
     "metadata": {},
     "output_type": "execute_result"
    }
   ],
   "source": [
    "df.iloc[]"
   ]
  },
  {
   "cell_type": "code",
   "execution_count": null,
   "id": "3ec588d8",
   "metadata": {},
   "outputs": [],
   "source": []
  }
 ],
 "metadata": {
  "kernelspec": {
   "display_name": "Python 3 (ipykernel)",
   "language": "python",
   "name": "python3"
  },
  "language_info": {
   "codemirror_mode": {
    "name": "ipython",
    "version": 3
   },
   "file_extension": ".py",
   "mimetype": "text/x-python",
   "name": "python",
   "nbconvert_exporter": "python",
   "pygments_lexer": "ipython3",
   "version": "3.9.13"
  }
 },
 "nbformat": 4,
 "nbformat_minor": 5
}
