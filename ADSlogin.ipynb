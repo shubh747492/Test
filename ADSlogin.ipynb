{
 "cells": [
  {
   "cell_type": "code",
   "execution_count": null,
   "id": "82dd7839",
   "metadata": {},
   "outputs": [],
   "source": [
    "from PyQt5 import QtCore, QtGui, QtWidgets"
   ]
  },
  {
   "cell_type": "code",
   "execution_count": null,
   "id": "a2613a51",
   "metadata": {},
   "outputs": [],
   "source": [
    "class Ui_Dialog(object):\n",
    "    def setupUi(self, Dialog):\n",
    "        Dialog.setObjectName(\"Dialog\")\n",
    "        Dialog.resize(421, 216)\n",
    "        font = QtGui.QFont()\n",
    "        font.setPointSize(8)\n",
    "        font.setBold(True)\n",
    "        font.setWeight(75)\n",
    "        Dialog.setFont(font)\n",
    "        self.pushButton = QtWidgets.QPushButton(Dialog)\n",
    "        self.pushButton.setGeometry(QtCore.QRect(170, 160, 81, 31))\n",
    "        font = QtGui.QFont()\n",
    "        font.setPointSize(8)\n",
    "        font.setBold(True)\n",
    "        font.setWeight(75)\n",
    "        self.pushButton.setFont(font)\n",
    "        self.pushButton.setObjectName(\"pushButton\")\n",
    "        self.label_3 = QtWidgets.QLabel(Dialog)\n",
    "        self.label_3.setGeometry(QtCore.QRect(110, 80, 61, 21))\n",
    "        self.label_3.setObjectName(\"label_3\")\n",
    "        self.lineEdit = QtWidgets.QLineEdit(Dialog)\n",
    "        self.lineEdit.setGeometry(QtCore.QRect(180, 80, 113, 20))\n",
    "        self.lineEdit.setObjectName(\"lineEdit\")\n",
    "        self.lineEdit_2 = QtWidgets.QLineEdit(Dialog)\n",
    "        self.lineEdit_2.setGeometry(QtCore.QRect(180, 120, 113, 20))\n",
    "        self.lineEdit_2.setText(\"\")\n",
    "        self.lineEdit_2.setObjectName(\"lineEdit_2\")\n",
    "        self.label_4 = QtWidgets.QLabel(Dialog)\n",
    "        self.label_4.setGeometry(QtCore.QRect(110, 120, 61, 21))\n",
    "        self.label_4.setObjectName(\"label_4\")\n",
    "        self.label = QtWidgets.QLabel(Dialog)\n",
    "        self.label.setGeometry(QtCore.QRect(10, 30, 401, 31))\n",
    "        font = QtGui.QFont()\n",
    "        font.setFamily(\"Arial\")\n",
    "        font.setPointSize(18)\n",
    "        font.setBold(False)\n",
    "        font.setWeight(50)\n",
    "        self.label.setFont(font)\n",
    "        self.label.setObjectName(\"label\")\n",
    "\n",
    "        self.retranslateUi(Dialog)\n",
    "        QtCore.QMetaObject.connectSlotsByName(Dialog)\n",
    "\n",
    "    def retranslateUi(self, Dialog):\n",
    "        _translate = QtCore.QCoreApplication.translate\n",
    "        Dialog.setWindowTitle(_translate(\"Dialog\", \"Dialog\"))\n",
    "        self.pushButton.setText(_translate(\"Dialog\", \"Login\"))\n",
    "        self.label_3.setText(_translate(\"Dialog\", \"MSID\"))\n",
    "        self.label_4.setText(_translate(\"Dialog\", \"Password\"))\n",
    "        self.label.setText(_translate(\"Dialog\", \"Authoring Deployment Support CRM\"))"
   ]
  },
  {
   "cell_type": "code",
   "execution_count": null,
   "id": "1af140cb",
   "metadata": {},
   "outputs": [],
   "source": [
    "if __name__ == \"__main__\":\n",
    "    import sys\n",
    "    app = QtWidgets.QApplication(sys.argv)\n",
    "    Dialog = QtWidgets.QDialog()\n",
    "    ui = Ui_Dialog()\n",
    "    ui.setupUi(Dialog)\n",
    "    Dialog.show()\n",
    "    sys.exit(app.exec_())"
   ]
  }
 ],
 "metadata": {
  "jupytext": {
   "cell_metadata_filter": "-all",
   "encoding": "# -*- coding: utf-8 -*-",
   "main_language": "python",
   "notebook_metadata_filter": "-all"
  },
  "kernelspec": {
   "display_name": "Python 3 (ipykernel)",
   "language": "python",
   "name": "python3"
  },
  "language_info": {
   "codemirror_mode": {
    "name": "ipython",
    "version": 3
   },
   "file_extension": ".py",
   "mimetype": "text/x-python",
   "name": "python",
   "nbconvert_exporter": "python",
   "pygments_lexer": "ipython3",
   "version": "3.9.13"
  }
 },
 "nbformat": 4,
 "nbformat_minor": 5
}
