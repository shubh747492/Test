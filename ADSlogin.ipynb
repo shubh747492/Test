{
 "cells": [
  {
   "cell_type": "code",
   "execution_count": 1,
   "id": "0f2540bc",
   "metadata": {},
   "outputs": [
    {
     "ename": "SystemExit",
     "evalue": "0",
     "output_type": "error",
     "traceback": [
      "An exception has occurred, use %tb to see the full traceback.\n",
      "\u001b[1;31mSystemExit\u001b[0m\u001b[1;31m:\u001b[0m 0\n"
     ]
    },
    {
     "name": "stderr",
     "output_type": "stream",
     "text": [
      "C:\\Users\\DELL\\anaconda3\\lib\\site-packages\\IPython\\core\\interactiveshell.py:3465: UserWarning: To exit: use 'exit', 'quit', or Ctrl-D.\n",
      "  warn(\"To exit: use 'exit', 'quit', or Ctrl-D.\", stacklevel=1)\n"
     ]
    }
   ],
   "source": [
    "from PyQt5 import QtCore, QtGui, QtWidgets\n",
    "\n",
    "class Ui_Dialog(object):\n",
    "    def setupUi(self, Dialog):\n",
    "        Dialog.setObjectName(\"Dialog\")\n",
    "        Dialog.resize(421, 216)\n",
    "        font = QtGui.QFont()\n",
    "        font.setPointSize(8)\n",
    "        font.setBold(True)\n",
    "        font.setWeight(75)\n",
    "        Dialog.setFont(font)\n",
    "        self.Loginbutton = QtWidgets.QPushButton(Dialog)\n",
    "        self.Loginbutton.setGeometry(QtCore.QRect(170, 160, 81, 31))\n",
    "        font = QtGui.QFont()\n",
    "        font.setPointSize(8)\n",
    "        font.setBold(True)\n",
    "        font.setWeight(75)\n",
    "        self.Loginbutton.setFont(font)\n",
    "        self.Loginbutton.setObjectName(\"Loginbutton\")\n",
    "        self.MSIDLabel = QtWidgets.QLabel(Dialog)\n",
    "        self.MSIDLabel.setGeometry(QtCore.QRect(110, 80, 61, 21))\n",
    "        self.MSIDLabel.setObjectName(\"MSIDLabel\")\n",
    "        self.MSIDinput = QtWidgets.QLineEdit(Dialog)\n",
    "        self.MSIDinput.setGeometry(QtCore.QRect(180, 80, 121, 20))\n",
    "        font = QtGui.QFont()\n",
    "        font.setPointSize(8)\n",
    "        font.setBold(False)\n",
    "        font.setWeight(50)\n",
    "        font.setKerning(False)\n",
    "        self.MSIDinput.setFont(font)\n",
    "        self.MSIDinput.setCursorPosition(0)\n",
    "        self.MSIDinput.setDragEnabled(False)\n",
    "        self.MSIDinput.setObjectName(\"MSIDinput\")\n",
    "        self.passwordinput = QtWidgets.QLineEdit(Dialog)\n",
    "        self.passwordinput.setGeometry(QtCore.QRect(180, 120, 121, 20))\n",
    "        font = QtGui.QFont()\n",
    "        font.setPointSize(8)\n",
    "        font.setBold(False)\n",
    "        font.setWeight(50)\n",
    "        self.passwordinput.setFont(font)\n",
    "        self.passwordinput.setInputMask(\"\")\n",
    "        self.passwordinput.setText(\"\")\n",
    "        self.passwordinput.setEchoMode(QtWidgets.QLineEdit.Password)\n",
    "        self.passwordinput.setCursorPosition(0)\n",
    "        self.passwordinput.setDragEnabled(True)\n",
    "        self.passwordinput.setClearButtonEnabled(False)\n",
    "        self.passwordinput.setObjectName(\"passwordinput\")\n",
    "        self.PasswordLabel = QtWidgets.QLabel(Dialog)\n",
    "        self.PasswordLabel.setGeometry(QtCore.QRect(110, 120, 61, 21))\n",
    "        self.PasswordLabel.setObjectName(\"PasswordLabel\")\n",
    "        self.TitleADS = QtWidgets.QLabel(Dialog)\n",
    "        self.TitleADS.setGeometry(QtCore.QRect(10, 30, 401, 31))\n",
    "        font = QtGui.QFont()\n",
    "        font.setFamily(\"Arial\")\n",
    "        font.setPointSize(18)\n",
    "        font.setBold(False)\n",
    "        font.setWeight(50)\n",
    "        self.TitleADS.setFont(font)\n",
    "        self.TitleADS.setObjectName(\"TitleADS\")\n",
    "\n",
    "        self.retranslateUi(Dialog)\n",
    "        QtCore.QMetaObject.connectSlotsByName(Dialog)\n",
    "\n",
    "    def retranslateUi(self, Dialog):\n",
    "        _translate = QtCore.QCoreApplication.translate\n",
    "        Dialog.setWindowTitle(_translate(\"Dialog\", \"Authoring Log System Login\"))\n",
    "        self.Loginbutton.setText(_translate(\"Dialog\", \"Login\"))\n",
    "        self.MSIDLabel.setText(_translate(\"Dialog\", \"MSID\"))\n",
    "        self.MSIDinput.setPlaceholderText(_translate(\"Dialog\", \"Enter MSID here . . .\"))\n",
    "        self.PasswordLabel.setText(_translate(\"Dialog\", \"Password\"))\n",
    "        self.TitleADS.setText(_translate(\"Dialog\", \"Authoring Deployment Support CRM\"))\n",
    "        \n",
    "if __name__ == \"__main__\":\n",
    "    import sys\n",
    "    app = QtWidgets.QApplication(sys.argv)\n",
    "    Dialog = QtWidgets.QDialog()\n",
    "    ui = Ui_Dialog()\n",
    "    ui.setupUi(Dialog)\n",
    "    Dialog.show()\n",
    "    sys.exit(app.exec_())"
   ]
  },
  {
   "cell_type": "code",
   "execution_count": null,
   "id": "b482d486",
   "metadata": {},
   "outputs": [],
   "source": []
  },
  {
   "cell_type": "code",
   "execution_count": null,
   "id": "10d21b97",
   "metadata": {},
   "outputs": [],
   "source": []
  },
  {
   "cell_type": "code",
   "execution_count": null,
   "id": "989d09d8",
   "metadata": {},
   "outputs": [],
   "source": []
  }
 ],
 "metadata": {
  "jupytext": {
   "cell_metadata_filter": "-all",
   "encoding": "# -*- coding: utf-8 -*-",
   "main_language": "python",
   "notebook_metadata_filter": "-all"
  },
  "kernelspec": {
   "display_name": "Python 3 (ipykernel)",
   "language": "python",
   "name": "python3"
  },
  "language_info": {
   "codemirror_mode": {
    "name": "ipython",
    "version": 3
   },
   "file_extension": ".py",
   "mimetype": "text/x-python",
   "name": "python",
   "nbconvert_exporter": "python",
   "pygments_lexer": "ipython3",
   "version": "3.9.13"
  }
 },
 "nbformat": 4,
 "nbformat_minor": 5
}
