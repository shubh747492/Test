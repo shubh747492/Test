{
 "cells": [
  {
   "cell_type": "code",
   "execution_count": null,
   "id": "1639f329",
   "metadata": {},
   "outputs": [],
   "source": [
    "from PyQt5 import QtCore, QtGui, QtWidgets"
   ]
  },
  {
   "cell_type": "code",
   "execution_count": null,
   "id": "3da5af62",
   "metadata": {},
   "outputs": [],
   "source": [
    "class Ui_Dialog(object):\n",
    "    def setupUi(self, Dialog):\n",
    "        Dialog.setObjectName(\"Dialog\")\n",
    "        Dialog.resize(435, 551)\n",
    "        self.tableView = QtWidgets.QTableView(Dialog)\n",
    "        self.tableView.setGeometry(QtCore.QRect(25, 131, 381, 311))\n",
    "        self.tableView.setObjectName(\"tableView\")\n",
    "        self.label_3 = QtWidgets.QLabel(Dialog)\n",
    "        self.label_3.setGeometry(QtCore.QRect(30, 80, 51, 21))\n",
    "        self.label_3.setObjectName(\"label_3\")\n",
    "        self.lineEdit = QtWidgets.QLineEdit(Dialog)\n",
    "        self.lineEdit.setGeometry(QtCore.QRect(70, 80, 101, 20))\n",
    "        self.lineEdit.setObjectName(\"lineEdit\")\n",
    "        self.pushButton = QtWidgets.QPushButton(Dialog)\n",
    "        self.pushButton.setGeometry(QtCore.QRect(190, 80, 81, 21))\n",
    "        font = QtGui.QFont()\n",
    "        font.setPointSize(8)\n",
    "        font.setBold(True)\n",
    "        font.setWeight(75)\n",
    "        self.pushButton.setFont(font)\n",
    "        self.pushButton.setAutoRepeatDelay(300)\n",
    "        self.pushButton.setObjectName(\"pushButton\")\n",
    "        self.pushButton_2 = QtWidgets.QPushButton(Dialog)\n",
    "        self.pushButton_2.setGeometry(QtCore.QRect(180, 500, 81, 21))\n",
    "        font = QtGui.QFont()\n",
    "        font.setPointSize(8)\n",
    "        font.setBold(True)\n",
    "        font.setWeight(75)\n",
    "        self.pushButton_2.setFont(font)\n",
    "        self.pushButton_2.setAutoRepeatDelay(300)\n",
    "        self.pushButton_2.setObjectName(\"pushButton_2\")\n",
    "        self.lineEdit_2 = QtWidgets.QLineEdit(Dialog)\n",
    "        self.lineEdit_2.setGeometry(QtCore.QRect(170, 460, 61, 20))\n",
    "        self.lineEdit_2.setObjectName(\"lineEdit_2\")\n",
    "        self.label_4 = QtWidgets.QLabel(Dialog)\n",
    "        self.label_4.setGeometry(QtCore.QRect(30, 460, 131, 21))\n",
    "        self.label_4.setObjectName(\"label_4\")\n",
    "        self.dateEdit = QtWidgets.QDateEdit(Dialog)\n",
    "        self.dateEdit.setGeometry(QtCore.QRect(290, 80, 110, 22))\n",
    "        self.dateEdit.setCalendarPopup(True)\n",
    "        self.dateEdit.setDate(QtCore.QDate(2000, 1, 18))\n",
    "        self.dateEdit.setObjectName(\"dateEdit\")\n",
    "        self.label = QtWidgets.QLabel(Dialog)\n",
    "        self.label.setGeometry(QtCore.QRect(20, 20, 401, 31))\n",
    "        font = QtGui.QFont()\n",
    "        font.setFamily(\"Arial\")\n",
    "        font.setPointSize(18)\n",
    "        font.setBold(False)\n",
    "        font.setWeight(50)\n",
    "        self.label.setFont(font)\n",
    "        self.label.setObjectName(\"label\")\n",
    "\n",
    "        self.retranslateUi(Dialog)\n",
    "        QtCore.QMetaObject.connectSlotsByName(Dialog)\n",
    "\n",
    "    def retranslateUi(self, Dialog):\n",
    "        _translate = QtCore.QCoreApplication.translate\n",
    "        Dialog.setWindowTitle(_translate(\"Dialog\", \"Dialog\"))\n",
    "        self.label_3.setText(_translate(\"Dialog\", \"MSID\"))\n",
    "        self.pushButton.setText(_translate(\"Dialog\", \"Show Data\"))\n",
    "        self.pushButton_2.setText(_translate(\"Dialog\", \"Edit Data\"))\n",
    "        self.label_4.setText(_translate(\"Dialog\", \"Enter Row number to edit\"))\n",
    "        self.dateEdit.setDisplayFormat(_translate(\"Dialog\", \"dd-MMM-yyyy\"))\n",
    "        self.label.setText(_translate(\"Dialog\", \"Authoring Deployment Support CRM\"))"
   ]
  },
  {
   "cell_type": "code",
   "execution_count": null,
   "id": "d8683cad",
   "metadata": {},
   "outputs": [],
   "source": [
    "if __name__ == \"__main__\":\n",
    "    import sys\n",
    "    app = QtWidgets.QApplication(sys.argv)\n",
    "    Dialog = QtWidgets.QDialog()\n",
    "    ui = Ui_Dialog()\n",
    "    ui.setupUi(Dialog)\n",
    "    Dialog.show()\n",
    "    sys.exit(app.exec_())"
   ]
  }
 ],
 "metadata": {
  "jupytext": {
   "cell_metadata_filter": "-all",
   "encoding": "# -*- coding: utf-8 -*-",
   "main_language": "python",
   "notebook_metadata_filter": "-all"
  },
  "kernelspec": {
   "display_name": "Python 3 (ipykernel)",
   "language": "python",
   "name": "python3"
  },
  "language_info": {
   "codemirror_mode": {
    "name": "ipython",
    "version": 3
   },
   "file_extension": ".py",
   "mimetype": "text/x-python",
   "name": "python",
   "nbconvert_exporter": "python",
   "pygments_lexer": "ipython3",
   "version": "3.9.13"
  }
 },
 "nbformat": 4,
 "nbformat_minor": 5
}
